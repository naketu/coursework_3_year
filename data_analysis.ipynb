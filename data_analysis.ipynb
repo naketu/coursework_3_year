{
 "cells": [
  {
   "cell_type": "markdown",
   "id": "d4f1ad31",
   "metadata": {},
   "source": [
    "vif\n",
    "pca\n",
    "////\n",
    "logit, descision tree\n",
    "\n",
    "цель актуальность новизна, обзор статей (генерация факторов для оценки кредитоспособности 1-2 (2), материалы цб (актуальная версия - показатели эффективности банков), ) \n",
    "ewc - CB \n",
    "определение дефолтов банков 2008-2014 insolvency "
   ]
  },
  {
   "cell_type": "markdown",
   "id": "b9ad10e0",
   "metadata": {},
   "source": [
    "1. проверить базовые модели\n",
    "2. попробовать добавить лаговые регрессоры\n",
    "3. добавить методы отбора переменных\n",
    "4. сделать выводы о их влиянии на модели\n",
    "5. написать отчет"
   ]
  },
  {
   "cell_type": "markdown",
   "id": "75c1212f",
   "metadata": {},
   "source": [
    "### Import of libraries and data"
   ]
  },
  {
   "cell_type": "code",
   "execution_count": 305,
   "id": "c1ccd942",
   "metadata": {},
   "outputs": [
    {
     "name": "stdout",
     "output_type": "stream",
     "text": [
      "Collecting mlxtend\n",
      "  Downloading mlxtend-0.22.0-py2.py3-none-any.whl (1.4 MB)\n",
      "\u001b[2K     \u001b[90m━━━━━━━━━━━━━━━━━━━━━━━━━━━━━━━━━━━━━━━━\u001b[0m \u001b[32m1.4/1.4 MB\u001b[0m \u001b[31m1.8 MB/s\u001b[0m eta \u001b[36m0:00:00\u001b[0m00:01\u001b[0m00:01\u001b[0m0m\n",
      "\u001b[?25hRequirement already satisfied: scikit-learn>=1.0.2 in /Applications/anaconda/anaconda3/lib/python3.9/site-packages (from mlxtend) (1.1.1)\n",
      "Requirement already satisfied: joblib>=0.13.2 in /Applications/anaconda/anaconda3/lib/python3.9/site-packages (from mlxtend) (1.1.0)\n",
      "Requirement already satisfied: numpy>=1.16.2 in /Applications/anaconda/anaconda3/lib/python3.9/site-packages (from mlxtend) (1.21.5)\n",
      "Requirement already satisfied: setuptools in /Applications/anaconda/anaconda3/lib/python3.9/site-packages (from mlxtend) (63.4.1)\n",
      "Requirement already satisfied: pandas>=0.24.2 in /Applications/anaconda/anaconda3/lib/python3.9/site-packages (from mlxtend) (1.4.4)\n",
      "Requirement already satisfied: scipy>=1.2.1 in /Applications/anaconda/anaconda3/lib/python3.9/site-packages (from mlxtend) (1.7.3)\n",
      "Requirement already satisfied: matplotlib>=3.0.0 in /Applications/anaconda/anaconda3/lib/python3.9/site-packages (from mlxtend) (3.5.2)\n",
      "Requirement already satisfied: pyparsing>=2.2.1 in /Applications/anaconda/anaconda3/lib/python3.9/site-packages (from matplotlib>=3.0.0->mlxtend) (3.0.9)\n",
      "Requirement already satisfied: kiwisolver>=1.0.1 in /Applications/anaconda/anaconda3/lib/python3.9/site-packages (from matplotlib>=3.0.0->mlxtend) (1.4.2)\n",
      "Requirement already satisfied: packaging>=20.0 in /Applications/anaconda/anaconda3/lib/python3.9/site-packages (from matplotlib>=3.0.0->mlxtend) (21.3)\n",
      "Requirement already satisfied: cycler>=0.10 in /Applications/anaconda/anaconda3/lib/python3.9/site-packages (from matplotlib>=3.0.0->mlxtend) (0.11.0)\n",
      "Requirement already satisfied: pillow>=6.2.0 in /Applications/anaconda/anaconda3/lib/python3.9/site-packages (from matplotlib>=3.0.0->mlxtend) (9.2.0)\n",
      "Requirement already satisfied: fonttools>=4.22.0 in /Applications/anaconda/anaconda3/lib/python3.9/site-packages (from matplotlib>=3.0.0->mlxtend) (4.25.0)\n",
      "Requirement already satisfied: python-dateutil>=2.7 in /Applications/anaconda/anaconda3/lib/python3.9/site-packages (from matplotlib>=3.0.0->mlxtend) (2.8.2)\n",
      "Requirement already satisfied: pytz>=2020.1 in /Applications/anaconda/anaconda3/lib/python3.9/site-packages (from pandas>=0.24.2->mlxtend) (2022.1)\n",
      "Requirement already satisfied: threadpoolctl>=2.0.0 in /Applications/anaconda/anaconda3/lib/python3.9/site-packages (from scikit-learn>=1.0.2->mlxtend) (2.2.0)\n",
      "Requirement already satisfied: six>=1.5 in /Applications/anaconda/anaconda3/lib/python3.9/site-packages (from python-dateutil>=2.7->matplotlib>=3.0.0->mlxtend) (1.16.0)\n",
      "Installing collected packages: mlxtend\n",
      "Successfully installed mlxtend-0.22.0\n"
     ]
    }
   ],
   "source": [
    "!pip install mlxtend"
   ]
  },
  {
   "cell_type": "code",
   "execution_count": 306,
   "id": "7e0cd93b",
   "metadata": {},
   "outputs": [],
   "source": [
    "import pandas as pd\n",
    "import numpy as np\n",
    "import matplotlib.pyplot as plt\n",
    "\n",
    "import seaborn as sns\n",
    "import statsmodels.api as sm\n",
    "from scipy import stats as st\n",
    "\n",
    "import sklearn\n",
    "from sklearn.preprocessing import normalize\n",
    "from sklearn.pipeline import make_pipeline\n",
    "from sklearn.preprocessing import StandardScaler\n",
    "from sklearn.model_selection import StratifiedKFold\n",
    "from sklearn.decomposition import PCA\n",
    "from sklearn.utils import resample\n",
    "from sklearn.preprocessing import OrdinalEncoder\n",
    "from sklearn.preprocessing import OneHotEncoder\n",
    "\n",
    "from sklearn.neighbors import KNeighborsClassifier\n",
    "from sklearn.svm import SVC\n",
    "from sklearn.svm import NuSVC\n",
    "from sklearn.tree import DecisionTreeClassifier\n",
    "from sklearn.ensemble import RandomForestClassifier\n",
    "from sklearn.linear_model import LogisticRegression\n",
    "from sklearn.ensemble import AdaBoostClassifier\n",
    "\n",
    "from sklearn.metrics import roc_auc_score, recall_score, f1_score, accuracy_score\n",
    "\n",
    "from mlxtend.feature_selection import SequentialFeatureSelector\n",
    "\n",
    "import warnings\n",
    "warnings.filterwarnings('ignore')"
   ]
  },
  {
   "cell_type": "code",
   "execution_count": 265,
   "id": "10dd35e9",
   "metadata": {},
   "outputs": [],
   "source": [
    "df = pd.read_excel('/Users/nikitos/Desktop/Project_method_analysis/data/Полные_данные_для_Никиты_тренировочные.xlsx')\n",
    "names = pd.read_excel('/Users/nikitos/Desktop/Project_method_analysis/data/Names(2).xlsx')"
   ]
  },
  {
   "cell_type": "code",
   "execution_count": 266,
   "id": "0615c56a",
   "metadata": {},
   "outputs": [
    {
     "data": {
      "text/html": [
       "<div>\n",
       "<style scoped>\n",
       "    .dataframe tbody tr th:only-of-type {\n",
       "        vertical-align: middle;\n",
       "    }\n",
       "\n",
       "    .dataframe tbody tr th {\n",
       "        vertical-align: top;\n",
       "    }\n",
       "\n",
       "    .dataframe thead th {\n",
       "        text-align: right;\n",
       "    }\n",
       "</style>\n",
       "<table border=\"1\" class=\"dataframe\">\n",
       "  <thead>\n",
       "    <tr style=\"text-align: right;\">\n",
       "      <th></th>\n",
       "      <th>licdate</th>\n",
       "      <th>regn</th>\n",
       "      <th>date</th>\n",
       "      <th>rang</th>\n",
       "      <th>default</th>\n",
       "      <th>h1</th>\n",
       "      <th>h101</th>\n",
       "      <th>h12</th>\n",
       "      <th>h2</th>\n",
       "      <th>h3</th>\n",
       "      <th>...</th>\n",
       "      <th>exp_nsc2</th>\n",
       "      <th>fch_nsc2</th>\n",
       "      <th>mds_nsc2</th>\n",
       "      <th>nra_nsc2</th>\n",
       "      <th>rus_nsc2</th>\n",
       "      <th>snp_nsc2</th>\n",
       "      <th>date3</th>\n",
       "      <th>default2</th>\n",
       "      <th>ent_name2</th>\n",
       "      <th>defaultfull</th>\n",
       "    </tr>\n",
       "  </thead>\n",
       "  <tbody>\n",
       "    <tr>\n",
       "      <th>0</th>\n",
       "      <td>240360</td>\n",
       "      <td>2</td>\n",
       "      <td>40360</td>\n",
       "      <td>0.564626</td>\n",
       "      <td>0</td>\n",
       "      <td>0.0</td>\n",
       "      <td>0.60</td>\n",
       "      <td>0.0</td>\n",
       "      <td>47.970001</td>\n",
       "      <td>75.019997</td>\n",
       "      <td>...</td>\n",
       "      <td>NaN</td>\n",
       "      <td>NaN</td>\n",
       "      <td>NaN</td>\n",
       "      <td>NaN</td>\n",
       "      <td>NaN</td>\n",
       "      <td>NaN</td>\n",
       "      <td>NaN</td>\n",
       "      <td>NaN</td>\n",
       "      <td>.</td>\n",
       "      <td>0</td>\n",
       "    </tr>\n",
       "    <tr>\n",
       "      <th>1</th>\n",
       "      <td>240452</td>\n",
       "      <td>2</td>\n",
       "      <td>40452</td>\n",
       "      <td>0.201908</td>\n",
       "      <td>0</td>\n",
       "      <td>0.0</td>\n",
       "      <td>0.03</td>\n",
       "      <td>0.0</td>\n",
       "      <td>29.790001</td>\n",
       "      <td>63.020000</td>\n",
       "      <td>...</td>\n",
       "      <td>NaN</td>\n",
       "      <td>NaN</td>\n",
       "      <td>NaN</td>\n",
       "      <td>NaN</td>\n",
       "      <td>NaN</td>\n",
       "      <td>NaN</td>\n",
       "      <td>NaN</td>\n",
       "      <td>NaN</td>\n",
       "      <td>.</td>\n",
       "      <td>0</td>\n",
       "    </tr>\n",
       "    <tr>\n",
       "      <th>2</th>\n",
       "      <td>240544</td>\n",
       "      <td>2</td>\n",
       "      <td>40544</td>\n",
       "      <td>0.705000</td>\n",
       "      <td>0</td>\n",
       "      <td>0.0</td>\n",
       "      <td>0.10</td>\n",
       "      <td>0.0</td>\n",
       "      <td>73.769997</td>\n",
       "      <td>70.250000</td>\n",
       "      <td>...</td>\n",
       "      <td>NaN</td>\n",
       "      <td>NaN</td>\n",
       "      <td>NaN</td>\n",
       "      <td>NaN</td>\n",
       "      <td>NaN</td>\n",
       "      <td>NaN</td>\n",
       "      <td>NaN</td>\n",
       "      <td>NaN</td>\n",
       "      <td>.</td>\n",
       "      <td>0</td>\n",
       "    </tr>\n",
       "    <tr>\n",
       "      <th>3</th>\n",
       "      <td>240634</td>\n",
       "      <td>2</td>\n",
       "      <td>40634</td>\n",
       "      <td>0.931361</td>\n",
       "      <td>0</td>\n",
       "      <td>0.0</td>\n",
       "      <td>0.08</td>\n",
       "      <td>0.0</td>\n",
       "      <td>24.459999</td>\n",
       "      <td>62.980000</td>\n",
       "      <td>...</td>\n",
       "      <td>NaN</td>\n",
       "      <td>NaN</td>\n",
       "      <td>NaN</td>\n",
       "      <td>NaN</td>\n",
       "      <td>NaN</td>\n",
       "      <td>NaN</td>\n",
       "      <td>NaN</td>\n",
       "      <td>NaN</td>\n",
       "      <td>.</td>\n",
       "      <td>0</td>\n",
       "    </tr>\n",
       "    <tr>\n",
       "      <th>4</th>\n",
       "      <td>240725</td>\n",
       "      <td>2</td>\n",
       "      <td>40725</td>\n",
       "      <td>0.417946</td>\n",
       "      <td>0</td>\n",
       "      <td>0.0</td>\n",
       "      <td>0.02</td>\n",
       "      <td>0.0</td>\n",
       "      <td>36.720001</td>\n",
       "      <td>67.519997</td>\n",
       "      <td>...</td>\n",
       "      <td>NaN</td>\n",
       "      <td>NaN</td>\n",
       "      <td>NaN</td>\n",
       "      <td>NaN</td>\n",
       "      <td>NaN</td>\n",
       "      <td>NaN</td>\n",
       "      <td>NaN</td>\n",
       "      <td>NaN</td>\n",
       "      <td>.</td>\n",
       "      <td>0</td>\n",
       "    </tr>\n",
       "  </tbody>\n",
       "</table>\n",
       "<p>5 rows × 119 columns</p>\n",
       "</div>"
      ],
      "text/plain": [
       "   licdate  regn   date      rang  default   h1  h101  h12         h2  \\\n",
       "0   240360     2  40360  0.564626        0  0.0  0.60  0.0  47.970001   \n",
       "1   240452     2  40452  0.201908        0  0.0  0.03  0.0  29.790001   \n",
       "2   240544     2  40544  0.705000        0  0.0  0.10  0.0  73.769997   \n",
       "3   240634     2  40634  0.931361        0  0.0  0.08  0.0  24.459999   \n",
       "4   240725     2  40725  0.417946        0  0.0  0.02  0.0  36.720001   \n",
       "\n",
       "          h3  ...  exp_nsc2  fch_nsc2  mds_nsc2  nra_nsc2  rus_nsc2  snp_nsc2  \\\n",
       "0  75.019997  ...       NaN       NaN       NaN       NaN       NaN       NaN   \n",
       "1  63.020000  ...       NaN       NaN       NaN       NaN       NaN       NaN   \n",
       "2  70.250000  ...       NaN       NaN       NaN       NaN       NaN       NaN   \n",
       "3  62.980000  ...       NaN       NaN       NaN       NaN       NaN       NaN   \n",
       "4  67.519997  ...       NaN       NaN       NaN       NaN       NaN       NaN   \n",
       "\n",
       "   date3  default2  ent_name2  defaultfull  \n",
       "0    NaN       NaN          .            0  \n",
       "1    NaN       NaN          .            0  \n",
       "2    NaN       NaN          .            0  \n",
       "3    NaN       NaN          .            0  \n",
       "4    NaN       NaN          .            0  \n",
       "\n",
       "[5 rows x 119 columns]"
      ]
     },
     "execution_count": 266,
     "metadata": {},
     "output_type": "execute_result"
    }
   ],
   "source": [
    "df.head()"
   ]
  },
  {
   "cell_type": "code",
   "execution_count": null,
   "id": "f8ba9b8e",
   "metadata": {},
   "outputs": [],
   "source": []
  },
  {
   "cell_type": "code",
   "execution_count": null,
   "id": "8489cf1c",
   "metadata": {},
   "outputs": [],
   "source": []
  },
  {
   "cell_type": "code",
   "execution_count": 267,
   "id": "e002b670",
   "metadata": {},
   "outputs": [],
   "source": [
    "ones = (df[\"defaultfull\"].sum()/df.shape[0]) * 100\n",
    "zeros = 100 - ones"
   ]
  },
  {
   "cell_type": "code",
   "execution_count": 268,
   "id": "a887621b",
   "metadata": {
    "scrolled": false
   },
   "outputs": [
    {
     "data": {
      "image/png": "[encoded data removed]",
      "text/plain": [
       "<Figure size 1600x1200 with 1 Axes>"
      ]
     },
     "metadata": {},
     "output_type": "display_data"
    }
   ],
   "source": [
    "fig, ax = plt.subplots(dpi=250)\n",
    "plt.pie([zeros, ones], labels=['percentage of functioning banks', 'percentage of defaults'], autopct='%1.1f%%');"
   ]
  },
  {
   "cell_type": "markdown",
   "id": "4789d659",
   "metadata": {},
   "source": [
    "### Creating additional explanatory variables"
   ]
  },
  {
   "cell_type": "code",
   "execution_count": 269,
   "id": "10339f7f",
   "metadata": {},
   "outputs": [],
   "source": [
    "# names"
   ]
  },
  {
   "cell_type": "code",
   "execution_count": 270,
   "id": "5202fe03",
   "metadata": {
    "scrolled": true
   },
   "outputs": [
    {
     "name": "stdout",
     "output_type": "stream",
     "text": [
      "['licdate', 'regn', 'date', 'rang', 'default', 'h1', 'h101', 'h12', 'h2', 'h3', 'h4', 'h7', 'h91', 'aa', 'ap', 'bl', 'ca', 'cp', 'ma', 'mp', 'op', 'or', 'r', 's', 'v', 'w', 'z', 'a_l', 'a_d', 'da', 'db', 'dc', 'df', 'dg', 'dh', 'dn', 'di', 'n', 'k', 'la', 'lb', 'lc', 'lf', 'lg', 'lh', 'li', 'ln', 'la_unknown', 'la_short', 'la_medium', 'la_long', 'lb_unknown', 'lb_short', 'lb_medium', 'lb_long', 'lc_unknown', 'lc_short', 'lc_medium', 'lc_long', 'lf_unknown', 'lf_short', 'lf_medium', 'lf_long', 'lg_unknown', 'lg_short', 'lg_medium', 'lg_long', 'lh_unknown', 'lh_short', 'lh_medium', 'lh_long', 'li_unknown', 'li_short', 'li_medium', 'li_long', 'ln_unknown', 'ln_short', 'ln_medium', 'ln_long', 'l_unknown_tot', 'l_short_tot', 'l_medium_tot', 'l_long_tot', 'active', 'size', 'nonf', 'debt_on_loan', 'durcha', 'recha', 'orcha', 'ent_id', 'consrank', 'akm_nsc', 'exp_nsc', 'fch_nsc', 'mds_nsc', 'nra_nsc', 'rus_nsc', 'snp_nsc', 'var119', 'ent_id2', 'date_str', 'ent_name', 'default3', 'okpo', 'ogrn', 'regn2', 'consrank2', 'akm_nsc2', 'exp_nsc2', 'fch_nsc2', 'mds_nsc2', 'nra_nsc2', 'rus_nsc2', 'snp_nsc2', 'date3', 'default2', 'ent_name2', 'defaultfull']\n"
     ]
    }
   ],
   "source": [
    "print(list(df.columns))"
   ]
  },
  {
   "cell_type": "code",
   "execution_count": 271,
   "id": "04b90567",
   "metadata": {},
   "outputs": [],
   "source": [
    "# data_columns = []\n",
    "\n",
    "# for c in list(df.columns):\n",
    "#     if (c.find('def') != -1):\n",
    "#         data_columns.append(c)\n",
    "\n",
    "# print(len(data_columns))\n",
    "# print(data_columns)"
   ]
  },
  {
   "cell_type": "code",
   "execution_count": 272,
   "id": "50942fa8",
   "metadata": {},
   "outputs": [],
   "source": [
    "# df['n']"
   ]
  },
  {
   "cell_type": "markdown",
   "id": "13e227b5",
   "metadata": {},
   "source": [
    "Описание полей: \n",
    "\n",
    "'licdate' - дата + номер лицензии\n",
    "'regn', 'regn2' - номер лицензии банка\n",
    "'date', 'date3' - временные пометки\n",
    "'rang'\n",
    "'default', 'default2', 'default3', 'defaultfull' - логические переменные для указания дефолта \n",
    "'h1', 'h101', 'h12', 'h2', 'h3', 'h4', 'h7', 'h91' - нормативы центрального банка (91, 101 - 9.1, 10.1)\n",
    "'aa' - Акционерный капитал (актив)\n",
    "'ap' - Акционерный капитал (пассив)\n",
    "'bl'\n",
    "'ca' - Счета собственного капитала (актив)\n",
    "'cp' - Счета собственного капитала (пассив)\n",
    "'ma' - Основные средства\n",
    "'mp' - Амортизация\n",
    "'op' - Прочие пассивы\n",
    "'or' - Обязательные резервы\n",
    "'r' - Резервы на возможные потери\n",
    "'s' - Купленные ценные бумаги (актив)\n",
    "'v' - Драгоценные металлы \n",
    "'w' - Наличность\n",
    "'z' - Выпущенные ценные бумаги (пассив)\n",
    "'da' - Депозиты коммерческих организаций\n",
    "'db' - Депозиты банков (МБК)\n",
    "'dc' - Депозиты ЦБ\n",
    "'df' - Депозиты иностранных организаций\n",
    "'dg' - Депозиты государственных органов\n",
    "'dh' - Депозиты домашних хозяйств\n",
    "'dn' - Депозиты НКО\n",
    "'di' - Депозиты финансовых организаций\n",
    "'n' - \n",
    "'k' - \n",
    "'la' - Кредиты коммерческим организациям\n",
    "'lb' - Кредиты банкам (МБК)\n",
    "'lc' - Кредиты ЦБ\n",
    "'lf' - Кредиты иностранным организациям\n",
    "'lg' - Кредиты государственным органам\n",
    "'lh' - Кредиты домашним хозяйствам\n",
    "'li' - Кредиты финансовым организациям\n",
    "'ln' - Кредиты НКО\n",
    "'active' - активы\n",
    "'size' - log(actives)\n",
    "'nonf'\n",
    "'durcha' - депозиты юр. лиц к чистым активам\n",
    "'recha' - резервы к чистым активам\n",
    "'orcha' - обязательные резервы к чистым активам\n",
    "'var119'\n",
    "'okpo'\n",
    "'ogrn' - основной государственный регистрационный номер\n",
    "\n",
    "\n",
    "!!! Депозиты к юр лицам = da + df, депозиты коммерческих и иностранных организаций"
   ]
  },
  {
   "cell_type": "code",
   "execution_count": 273,
   "id": "01c58a6b",
   "metadata": {},
   "outputs": [],
   "source": [
    "# for d in df['date'].unique():\n",
    "#     print(d, df[df['date'] == d]['defaultfull'].sum())"
   ]
  },
  {
   "cell_type": "code",
   "execution_count": null,
   "id": "9ef1b328",
   "metadata": {},
   "outputs": [],
   "source": []
  },
  {
   "cell_type": "code",
   "execution_count": null,
   "id": "97ac7e78",
   "metadata": {},
   "outputs": [],
   "source": []
  },
  {
   "cell_type": "code",
   "execution_count": null,
   "id": "c135f8f4",
   "metadata": {},
   "outputs": [],
   "source": []
  },
  {
   "cell_type": "markdown",
   "id": "07880f02",
   "metadata": {},
   "source": [
    "\n",
    "А.М. Карминский  НИУ ВШЭ, Москва \n",
    "А.В. Костров  НИУ ВШЭ, Москва \n",
    "\n",
    "\n",
    "##### Моделирование вероятности дефолта российских банков: расширенные возможности\n",
    "\n",
    "\n",
    "++++++++++ Отношение собственных средств к чистым активам - sk_ca\n",
    "\n",
    "- Отношение балансовой прибыли к чистым активам - bp_ca\n",
    "\n",
    "++++++++++ Отношение ликвидных активов к чистым активам - la_ca \n",
    "\n",
    "++++++++++ Отношение объема негосударственных ценных бумаг к чистым активам ncb_ca s_active\n",
    "\n",
    "- Отношение просроченной задолженности по ссудам к кредитам экономике pzs_ke\n",
    "\n",
    "- Отношение оборотов по корреспондентским счетам к чистым активам oks_ca\n",
    "\n",
    "++++++++++ Отношение ликвидных активов к обязательствам до востребования la_ov - h2\n",
    "\n",
    "++++++++++ Логарифм чистых активов ln_ca / SIZE \n",
    "\n",
    "- Отношение операционных доходов банка к чистой прибыли odb_cp\n",
    "\n",
    "- Отношение чистой прибыли к чистым активам cp_ca\n",
    "\n",
    "? Отношение ликвидных активов к долговым обязательствам государственным и органов местного самоуправления la_gdo\n",
    "\n",
    "? Отношение ликвидных активов к обязательствам на срок свыше одного года la_solong\n",
    "\n",
    "++++++++++ Отношение долговых обязательств государственных и органов местного самоуправления к чистым активам gdo_ca\n",
    "\n",
    "Отношение работающих активов к чистым активам ra_ca\n",
    "\n",
    "- Отношение депозитов физических лиц до 30 дней к депозитам физических лиц vdfl30_dfl\n",
    "\n",
    "- Отношение расходов на содержание аппарата к операционным расходам банка rsa_orb\n",
    "\n",
    "++++++++++ Отношение резервов к чистым активам res_ca - recha "
   ]
  },
  {
   "cell_type": "markdown",
   "id": "fc1a5a4b",
   "metadata": {},
   "source": [
    "##### Feature generation"
   ]
  },
  {
   "cell_type": "code",
   "execution_count": 274,
   "id": "ba745c41",
   "metadata": {},
   "outputs": [],
   "source": [
    "# sk_ca\n",
    "\n",
    "df['ca_active'] = df['ca'] / df['active']\n",
    "\n",
    "df['ma_active'] = df['ma'] / df['active']\n",
    "\n",
    "df['ca+cp_active'] = df['ca'] + df['ca']\n",
    "df['ca+cp_active'] = df['ca+cp_active'] / df['active']\n",
    "\n",
    "# la_ca\n",
    "\n",
    "df['s+w+v_active'] = df['s'] + df['v'] + df['w']\n",
    "df['s+w+v_active'] = df['s+w+v_active'] / df['active']\n",
    "\n",
    "# ncb_ca\n",
    "\n",
    "df['s_active'] = df['s'] / df['active']\n",
    "\n",
    "# gdo_ca\n",
    "\n",
    "df['gdo_ca'] = df['lg']/df['active']"
   ]
  },
  {
   "cell_type": "code",
   "execution_count": 275,
   "id": "2dc2ba3f",
   "metadata": {},
   "outputs": [],
   "source": [
    "# list(df.select_dtypes(np.number).columns)"
   ]
  },
  {
   "cell_type": "code",
   "execution_count": null,
   "id": "c35f0b2b",
   "metadata": {},
   "outputs": [],
   "source": []
  },
  {
   "cell_type": "code",
   "execution_count": null,
   "id": "7d3d275d",
   "metadata": {},
   "outputs": [],
   "source": []
  },
  {
   "cell_type": "markdown",
   "id": "6103d5fa",
   "metadata": {},
   "source": [
    "##### Ratings normalization + ratings filtration "
   ]
  },
  {
   "cell_type": "code",
   "execution_count": 276,
   "id": "d983b0a8",
   "metadata": {},
   "outputs": [
    {
     "name": "stdout",
     "output_type": "stream",
     "text": [
      "['consrank', 'akm_nsc', 'exp_nsc', 'fch_nsc', 'mds_nsc', 'nra_nsc', 'rus_nsc', 'snp_nsc', 'consrank2', 'akm_nsc2', 'exp_nsc2', 'fch_nsc2', 'mds_nsc2', 'nra_nsc2', 'rus_nsc2', 'snp_nsc2']\n"
     ]
    }
   ],
   "source": [
    "ratings = []\n",
    "\n",
    "for c in list(df.columns):\n",
    "    if (c.find('consrank') != -1) or (c.find('nsc') != -1):\n",
    "        ratings.append(c)\n",
    "        regul = StandardScaler()\n",
    "        regul.fit(np.array(df[df[c].notnull()][c]).reshape(-1, 1))\n",
    "        \n",
    "        df[c] = regul.transform(np.array(df[c].fillna(regul.mean_[0])).reshape(-1, 1)).reshape(df.shape[0])\n",
    "        \n",
    "print(ratings)\n",
    "\n",
    "df_ratings = df[ratings]\n",
    "df['have_rating'] = df_ratings.sum(axis=1)\n",
    "\n",
    "df['have_rating'] = df['have_rating'].apply(lambda x: 1 if x > 0 else 0)"
   ]
  },
  {
   "cell_type": "code",
   "execution_count": null,
   "id": "6997e793",
   "metadata": {},
   "outputs": [],
   "source": []
  },
  {
   "cell_type": "code",
   "execution_count": 277,
   "id": "3cc4c930",
   "metadata": {},
   "outputs": [
    {
     "data": {
      "text/plain": [
       "<AxesSubplot:>"
      ]
     },
     "execution_count": 277,
     "metadata": {},
     "output_type": "execute_result"
    },
    {
     "data": {
      "image/png": "[encoded data removed]",
      "text/plain": [
       "<Figure size 640x480 with 1 Axes>"
      ]
     },
     "metadata": {},
     "output_type": "display_data"
    }
   ],
   "source": [
    "df[df['have_rating'] == 1]['consrank'].hist(bins=20)"
   ]
  },
  {
   "cell_type": "code",
   "execution_count": 278,
   "id": "eddec6ee",
   "metadata": {},
   "outputs": [
    {
     "data": {
      "image/png": "[encoded data removed]",
      "text/plain": [
       "<Figure size 640x480 with 1 Axes>"
      ]
     },
     "metadata": {},
     "output_type": "display_data"
    }
   ],
   "source": [
    "for i in ratings:\n",
    "    df[df['have_rating'] != 0][i].hist(bins = 15)"
   ]
  },
  {
   "cell_type": "markdown",
   "id": "888f78ca",
   "metadata": {},
   "source": [
    "##### Ordinal variables transformation"
   ]
  },
  {
   "cell_type": "markdown",
   "id": "79a4f0fa",
   "metadata": {},
   "source": [
    "We have ordinal variables - date\n",
    "And nominal - regn, name"
   ]
  },
  {
   "cell_type": "code",
   "execution_count": 279,
   "id": "59023a6b",
   "metadata": {},
   "outputs": [],
   "source": [
    "df = df.drop(['regn2'], axis=1)\n",
    "df = df.drop(['date3'], axis=1)\n",
    "df = df.drop(['date_str'], axis=1)\n",
    "df = df.drop([\"ent_name\", \"ent_name2\"], axis=1)"
   ]
  },
  {
   "cell_type": "code",
   "execution_count": 280,
   "id": "1d55ff7c",
   "metadata": {},
   "outputs": [],
   "source": [
    "for col in ['nonf', 'var119']: #, 'nonf_lag_1', 'nonf_lag_2', 'var119_lag_1', 'var119_lag_2']:\n",
    "    df[col] = df[col].fillna(df[col].mean())"
   ]
  },
  {
   "cell_type": "markdown",
   "id": "9897826e",
   "metadata": {},
   "source": [
    "##### Adding lags "
   ]
  },
  {
   "cell_type": "code",
   "execution_count": 281,
   "id": "e6eb4db0",
   "metadata": {},
   "outputs": [],
   "source": [
    "prepared = set()\n",
    "filter_lag_1 = []\n",
    "\n",
    "for el in list(df['regn']):\n",
    "    \n",
    "    if el in prepared:\n",
    "        filter_lag_1.append(1)\n",
    "        \n",
    "    else:\n",
    "        filter_lag_1.append(0)\n",
    "        \n",
    "    prepared.add(el)\n",
    "\n",
    "filter_lag_2 = filter_lag_1.copy()\n",
    "\n",
    "i = 0\n",
    "while i < len(filter_lag_2):\n",
    "    if filter_lag_2[i] == 0:\n",
    "        filter_lag_2[i+1] = 0\n",
    "        i += 2\n",
    "    else:\n",
    "        i += 1"
   ]
  },
  {
   "cell_type": "code",
   "execution_count": 282,
   "id": "6df3b37c",
   "metadata": {},
   "outputs": [],
   "source": [
    "df = df.sort_values(['regn', 'date'])\n",
    "\n",
    "number_columns = df.select_dtypes(np.number).columns\n",
    "\n",
    "exclude=set(['licdate', 'regn', 'date', 'default', 'default2', 'default3', 'defaultfull', 'date3', 'date_str', 'ent_id', 'ent_id2', 'rang', 'have_rating'])\n",
    "lags_columns = []\n",
    "\n",
    "for col in number_columns:\n",
    "    if col in exclude:\n",
    "        continue\n",
    "        \n",
    "    else:\n",
    "        df[f\"{col}_lag_1\"] = df[col].shift(1).fillna(0)\n",
    "        df[f\"{col}_lag_2\"] = df[col].shift(2).fillna(0)\n",
    "        \n",
    "        df[f\"{col}_lag_1\"] = df[f\"{col}_lag_1\"] * filter_lag_1\n",
    "        df[f\"{col}_lag_2\"] = df[f\"{col}_lag_2\"] * filter_lag_2\n",
    "        \n",
    "        lags_columns.append(f\"{col}_lag_1\")\n",
    "        lags_columns.append(f\"{col}_lag_2\")"
   ]
  },
  {
   "cell_type": "code",
   "execution_count": null,
   "id": "1f9b728b",
   "metadata": {},
   "outputs": [],
   "source": []
  },
  {
   "cell_type": "code",
   "execution_count": 283,
   "id": "5a89ad85",
   "metadata": {},
   "outputs": [],
   "source": [
    "# df = df.drop(lags_columns, axis=1)"
   ]
  },
  {
   "cell_type": "markdown",
   "id": "54e1cd2b",
   "metadata": {},
   "source": [
    "##### Distribution of defaults between two datasets"
   ]
  },
  {
   "cell_type": "code",
   "execution_count": 284,
   "id": "e49dc4cb",
   "metadata": {},
   "outputs": [],
   "source": [
    "df_with_ratings = df[df['have_rating'] == 1]\n",
    "df_no_ratings = df[df['have_rating'] == 0]\n",
    "\n",
    "df_no_ratings = df_no_ratings.drop(ratings, axis=1)"
   ]
  },
  {
   "cell_type": "code",
   "execution_count": 285,
   "id": "e2ebd072",
   "metadata": {},
   "outputs": [
    {
     "data": {
      "image/png": "[encoded data removed]",
      "text/plain": [
       "<Figure size 640x480 with 1 Axes>"
      ]
     },
     "metadata": {},
     "output_type": "display_data"
    }
   ],
   "source": [
    "ones = (df_with_ratings[\"defaultfull\"].sum()/df.shape[0]) * 100\n",
    "zeros = 100 - ones\n",
    "\n",
    "fig, ax = plt.subplots(dpi=100)\n",
    "plt.pie([zeros, ones], labels=['percentage of zeros', 'percentage of ones'], autopct='%1.1f%%');"
   ]
  },
  {
   "cell_type": "code",
   "execution_count": 286,
   "id": "b16b04d6",
   "metadata": {},
   "outputs": [
    {
     "data": {
      "image/png": "[encoded data removed]",
      "text/plain": [
       "<Figure size 640x480 with 1 Axes>"
      ]
     },
     "metadata": {},
     "output_type": "display_data"
    }
   ],
   "source": [
    "ones = (df_no_ratings[\"defaultfull\"].sum()/df.shape[0]) * 100\n",
    "zeros = 100 - ones\n",
    "\n",
    "fig, ax = plt.subplots(dpi=100)\n",
    "plt.pie([zeros, ones], labels=['percentage of zeros', 'percentage of ones'], autopct='%1.1f%%');"
   ]
  },
  {
   "cell_type": "code",
   "execution_count": 287,
   "id": "a6f7dabf",
   "metadata": {},
   "outputs": [
    {
     "data": {
      "text/plain": [
       "Int64Index([    0,     1,     2,     3,     4,     5,     6,     7,     8,\n",
       "                9,\n",
       "            ...\n",
       "            17821, 17822, 17823, 17824, 17825, 17826, 17827, 17828, 17829,\n",
       "            17830],\n",
       "           dtype='int64', length=17831)"
      ]
     },
     "execution_count": 287,
     "metadata": {},
     "output_type": "execute_result"
    }
   ],
   "source": [
    "# df = df.sort_values(['date'])\n",
    "\n",
    "df.index"
   ]
  },
  {
   "cell_type": "code",
   "execution_count": 288,
   "id": "72f9b5d7",
   "metadata": {},
   "outputs": [
    {
     "data": {
      "text/html": [
       "<div>\n",
       "<style scoped>\n",
       "    .dataframe tbody tr th:only-of-type {\n",
       "        vertical-align: middle;\n",
       "    }\n",
       "\n",
       "    .dataframe tbody tr th {\n",
       "        vertical-align: top;\n",
       "    }\n",
       "\n",
       "    .dataframe thead th {\n",
       "        text-align: right;\n",
       "    }\n",
       "</style>\n",
       "<table border=\"1\" class=\"dataframe\">\n",
       "  <thead>\n",
       "    <tr style=\"text-align: right;\">\n",
       "      <th></th>\n",
       "      <th>licdate</th>\n",
       "      <th>regn</th>\n",
       "      <th>date</th>\n",
       "      <th>rang</th>\n",
       "      <th>default</th>\n",
       "      <th>h1</th>\n",
       "      <th>h101</th>\n",
       "      <th>h12</th>\n",
       "      <th>h2</th>\n",
       "      <th>h3</th>\n",
       "      <th>...</th>\n",
       "      <th>ma_active_lag_1</th>\n",
       "      <th>ma_active_lag_2</th>\n",
       "      <th>ca+cp_active_lag_1</th>\n",
       "      <th>ca+cp_active_lag_2</th>\n",
       "      <th>s+w+v_active_lag_1</th>\n",
       "      <th>s+w+v_active_lag_2</th>\n",
       "      <th>s_active_lag_1</th>\n",
       "      <th>s_active_lag_2</th>\n",
       "      <th>gdo_ca_lag_1</th>\n",
       "      <th>gdo_ca_lag_2</th>\n",
       "    </tr>\n",
       "  </thead>\n",
       "  <tbody>\n",
       "    <tr>\n",
       "      <th>0</th>\n",
       "      <td>240360</td>\n",
       "      <td>2</td>\n",
       "      <td>40360</td>\n",
       "      <td>0.564626</td>\n",
       "      <td>0</td>\n",
       "      <td>0.0</td>\n",
       "      <td>0.60</td>\n",
       "      <td>0.0</td>\n",
       "      <td>47.970001</td>\n",
       "      <td>75.019997</td>\n",
       "      <td>...</td>\n",
       "      <td>0.000000</td>\n",
       "      <td>0.000000</td>\n",
       "      <td>0.000000</td>\n",
       "      <td>0.000000</td>\n",
       "      <td>0.000000</td>\n",
       "      <td>0.000000</td>\n",
       "      <td>0.0</td>\n",
       "      <td>0.0</td>\n",
       "      <td>0.0</td>\n",
       "      <td>0.0</td>\n",
       "    </tr>\n",
       "    <tr>\n",
       "      <th>1</th>\n",
       "      <td>240452</td>\n",
       "      <td>2</td>\n",
       "      <td>40452</td>\n",
       "      <td>0.201908</td>\n",
       "      <td>0</td>\n",
       "      <td>0.0</td>\n",
       "      <td>0.03</td>\n",
       "      <td>0.0</td>\n",
       "      <td>29.790001</td>\n",
       "      <td>63.020000</td>\n",
       "      <td>...</td>\n",
       "      <td>0.004066</td>\n",
       "      <td>0.000000</td>\n",
       "      <td>0.405200</td>\n",
       "      <td>0.000000</td>\n",
       "      <td>0.020973</td>\n",
       "      <td>0.000000</td>\n",
       "      <td>0.0</td>\n",
       "      <td>0.0</td>\n",
       "      <td>0.0</td>\n",
       "      <td>0.0</td>\n",
       "    </tr>\n",
       "    <tr>\n",
       "      <th>2</th>\n",
       "      <td>240544</td>\n",
       "      <td>2</td>\n",
       "      <td>40544</td>\n",
       "      <td>0.705000</td>\n",
       "      <td>0</td>\n",
       "      <td>0.0</td>\n",
       "      <td>0.10</td>\n",
       "      <td>0.0</td>\n",
       "      <td>73.769997</td>\n",
       "      <td>70.250000</td>\n",
       "      <td>...</td>\n",
       "      <td>0.003349</td>\n",
       "      <td>0.004066</td>\n",
       "      <td>0.513278</td>\n",
       "      <td>0.405200</td>\n",
       "      <td>0.019406</td>\n",
       "      <td>0.020973</td>\n",
       "      <td>0.0</td>\n",
       "      <td>0.0</td>\n",
       "      <td>0.0</td>\n",
       "      <td>0.0</td>\n",
       "    </tr>\n",
       "    <tr>\n",
       "      <th>3</th>\n",
       "      <td>240634</td>\n",
       "      <td>2</td>\n",
       "      <td>40634</td>\n",
       "      <td>0.931361</td>\n",
       "      <td>0</td>\n",
       "      <td>0.0</td>\n",
       "      <td>0.08</td>\n",
       "      <td>0.0</td>\n",
       "      <td>24.459999</td>\n",
       "      <td>62.980000</td>\n",
       "      <td>...</td>\n",
       "      <td>0.003016</td>\n",
       "      <td>0.003349</td>\n",
       "      <td>0.609468</td>\n",
       "      <td>0.513278</td>\n",
       "      <td>0.014643</td>\n",
       "      <td>0.019406</td>\n",
       "      <td>0.0</td>\n",
       "      <td>0.0</td>\n",
       "      <td>0.0</td>\n",
       "      <td>0.0</td>\n",
       "    </tr>\n",
       "    <tr>\n",
       "      <th>4</th>\n",
       "      <td>240725</td>\n",
       "      <td>2</td>\n",
       "      <td>40725</td>\n",
       "      <td>0.417946</td>\n",
       "      <td>0</td>\n",
       "      <td>0.0</td>\n",
       "      <td>0.02</td>\n",
       "      <td>0.0</td>\n",
       "      <td>36.720001</td>\n",
       "      <td>67.519997</td>\n",
       "      <td>...</td>\n",
       "      <td>0.003551</td>\n",
       "      <td>0.003016</td>\n",
       "      <td>0.221099</td>\n",
       "      <td>0.609468</td>\n",
       "      <td>0.023062</td>\n",
       "      <td>0.014643</td>\n",
       "      <td>0.0</td>\n",
       "      <td>0.0</td>\n",
       "      <td>0.0</td>\n",
       "      <td>0.0</td>\n",
       "    </tr>\n",
       "  </tbody>\n",
       "</table>\n",
       "<p>5 rows × 341 columns</p>\n",
       "</div>"
      ],
      "text/plain": [
       "   licdate  regn   date      rang  default   h1  h101  h12         h2  \\\n",
       "0   240360     2  40360  0.564626        0  0.0  0.60  0.0  47.970001   \n",
       "1   240452     2  40452  0.201908        0  0.0  0.03  0.0  29.790001   \n",
       "2   240544     2  40544  0.705000        0  0.0  0.10  0.0  73.769997   \n",
       "3   240634     2  40634  0.931361        0  0.0  0.08  0.0  24.459999   \n",
       "4   240725     2  40725  0.417946        0  0.0  0.02  0.0  36.720001   \n",
       "\n",
       "          h3  ...  ma_active_lag_1  ma_active_lag_2  ca+cp_active_lag_1  \\\n",
       "0  75.019997  ...         0.000000         0.000000            0.000000   \n",
       "1  63.020000  ...         0.004066         0.000000            0.405200   \n",
       "2  70.250000  ...         0.003349         0.004066            0.513278   \n",
       "3  62.980000  ...         0.003016         0.003349            0.609468   \n",
       "4  67.519997  ...         0.003551         0.003016            0.221099   \n",
       "\n",
       "   ca+cp_active_lag_2  s+w+v_active_lag_1  s+w+v_active_lag_2  s_active_lag_1  \\\n",
       "0            0.000000            0.000000            0.000000             0.0   \n",
       "1            0.000000            0.020973            0.000000             0.0   \n",
       "2            0.405200            0.019406            0.020973             0.0   \n",
       "3            0.513278            0.014643            0.019406             0.0   \n",
       "4            0.609468            0.023062            0.014643             0.0   \n",
       "\n",
       "   s_active_lag_2  gdo_ca_lag_1  gdo_ca_lag_2  \n",
       "0             0.0           0.0           0.0  \n",
       "1             0.0           0.0           0.0  \n",
       "2             0.0           0.0           0.0  \n",
       "3             0.0           0.0           0.0  \n",
       "4             0.0           0.0           0.0  \n",
       "\n",
       "[5 rows x 341 columns]"
      ]
     },
     "execution_count": 288,
     "metadata": {},
     "output_type": "execute_result"
    }
   ],
   "source": [
    "df.head()"
   ]
  },
  {
   "cell_type": "markdown",
   "id": "165e31e2",
   "metadata": {},
   "source": [
    "Normalization"
   ]
  },
  {
   "cell_type": "code",
   "execution_count": 289,
   "id": "e44d4016",
   "metadata": {},
   "outputs": [],
   "source": [
    "\"\"\"\n",
    "Hot fix\n",
    "\"\"\"\n",
    "\n",
    "cols_with_nan = df_with_ratings.isnull().describe().T\n",
    "cols_with_nan = list(cols_with_nan[cols_with_nan['unique'] == 2].T.columns)\n",
    "\n",
    "df_with_ratings = df_with_ratings.drop(cols_with_nan, axis=1)\n",
    "df_no_ratings = df_no_ratings.drop(cols_with_nan, axis=1)"
   ]
  },
  {
   "cell_type": "code",
   "execution_count": 290,
   "id": "42f5e53e",
   "metadata": {},
   "outputs": [],
   "source": [
    "# regul = StandardScaler()\n",
    "\n",
    "# regul.fit_transform(df_no_ratings)"
   ]
  },
  {
   "cell_type": "code",
   "execution_count": 291,
   "id": "c684abcb",
   "metadata": {},
   "outputs": [],
   "source": [
    "# for c in df_no_ratings.columns:\n",
    "#     regul = StandardScaler()\n",
    "#     regul.fit(np.array(df[df[c].notnull()][c]).reshape(-1, 1))\n",
    "\n",
    "#     df[c] = regul.transform(np.array(df[c].fillna(regul.mean_[0])).reshape(-1, 1)).reshape(df.shape[0])"
   ]
  },
  {
   "cell_type": "code",
   "execution_count": null,
   "id": "34af3856",
   "metadata": {},
   "outputs": [],
   "source": []
  },
  {
   "cell_type": "markdown",
   "id": "5dbc351a",
   "metadata": {},
   "source": [
    "## Models"
   ]
  },
  {
   "cell_type": "code",
   "execution_count": 292,
   "id": "f56ae129",
   "metadata": {},
   "outputs": [
    {
     "data": {
      "text/plain": [
       "'\\nLogisticRegression\\nKNeighborsClassifier\\nSVC\\nNuSVC\\nDecisionTreeClassifier\\nRandomForestClassifier\\nAdaBoostClassifier\\n'"
      ]
     },
     "execution_count": 292,
     "metadata": {},
     "output_type": "execute_result"
    }
   ],
   "source": [
    "\"\"\"\n",
    "LogisticRegression\n",
    "KNeighborsClassifier\n",
    "SVC\n",
    "NuSVC\n",
    "DecisionTreeClassifier\n",
    "RandomForestClassifier\n",
    "AdaBoostClassifier\n",
    "\"\"\""
   ]
  },
  {
   "cell_type": "code",
   "execution_count": 293,
   "id": "33c88d19",
   "metadata": {},
   "outputs": [
    {
     "name": "stdout",
     "output_type": "stream",
     "text": [
      "(17831, 341)\n",
      "(3186, 335)\n",
      "(14645, 319)\n"
     ]
    }
   ],
   "source": [
    "print(df.shape)\n",
    "print(df_with_ratings.shape)\n",
    "print(df_no_ratings.shape)"
   ]
  },
  {
   "cell_type": "code",
   "execution_count": 294,
   "id": "55a44319",
   "metadata": {},
   "outputs": [],
   "source": [
    "# encoder = OneHotEncoder()\n",
    "\n",
    "# smth = encoder.fit_transform(df[['regn']])\n",
    "\n",
    "# smth_more = zip(encoder.get_feature_names_out(['regn']), smth)"
   ]
  },
  {
   "cell_type": "code",
   "execution_count": 295,
   "id": "022ace61",
   "metadata": {},
   "outputs": [],
   "source": [
    "# k = 0\n",
    "\n",
    "# for i in smth_more:\n",
    "#     print(i[1].tolist())\n",
    "#     k+= 1\n",
    "#     if k == 5:\n",
    "#         break"
   ]
  },
  {
   "cell_type": "code",
   "execution_count": 296,
   "id": "e59998d1",
   "metadata": {},
   "outputs": [
    {
     "data": {
      "text/plain": [
       "[]"
      ]
     },
     "execution_count": 296,
     "metadata": {},
     "output_type": "execute_result"
    }
   ],
   "source": [
    "trash = df_with_ratings.isnull().describe().T\n",
    "list(trash[trash['unique'] == 2].T.columns)"
   ]
  },
  {
   "cell_type": "code",
   "execution_count": 297,
   "id": "0c9e6da5",
   "metadata": {},
   "outputs": [],
   "source": [
    "# df[df['ent_id'].notnull()]['ent_id']"
   ]
  },
  {
   "cell_type": "code",
   "execution_count": 298,
   "id": "1c927120",
   "metadata": {},
   "outputs": [
    {
     "data": {
      "text/html": [
       "<div>\n",
       "<style scoped>\n",
       "    .dataframe tbody tr th:only-of-type {\n",
       "        vertical-align: middle;\n",
       "    }\n",
       "\n",
       "    .dataframe tbody tr th {\n",
       "        vertical-align: top;\n",
       "    }\n",
       "\n",
       "    .dataframe thead th {\n",
       "        text-align: right;\n",
       "    }\n",
       "</style>\n",
       "<table border=\"1\" class=\"dataframe\">\n",
       "  <thead>\n",
       "    <tr style=\"text-align: right;\">\n",
       "      <th></th>\n",
       "      <th>licdate</th>\n",
       "      <th>regn</th>\n",
       "      <th>date</th>\n",
       "      <th>rang</th>\n",
       "      <th>default</th>\n",
       "      <th>h1</th>\n",
       "      <th>h101</th>\n",
       "      <th>h12</th>\n",
       "      <th>h2</th>\n",
       "      <th>h3</th>\n",
       "      <th>...</th>\n",
       "      <th>ma_active_lag_1</th>\n",
       "      <th>ma_active_lag_2</th>\n",
       "      <th>ca+cp_active_lag_1</th>\n",
       "      <th>ca+cp_active_lag_2</th>\n",
       "      <th>s+w+v_active_lag_1</th>\n",
       "      <th>s+w+v_active_lag_2</th>\n",
       "      <th>s_active_lag_1</th>\n",
       "      <th>s_active_lag_2</th>\n",
       "      <th>gdo_ca_lag_1</th>\n",
       "      <th>gdo_ca_lag_2</th>\n",
       "    </tr>\n",
       "  </thead>\n",
       "  <tbody>\n",
       "    <tr>\n",
       "      <th>44</th>\n",
       "      <td>1840544</td>\n",
       "      <td>18</td>\n",
       "      <td>40544</td>\n",
       "      <td>0.331250</td>\n",
       "      <td>0</td>\n",
       "      <td>0.000000</td>\n",
       "      <td>0.80</td>\n",
       "      <td>0.0</td>\n",
       "      <td>30.860001</td>\n",
       "      <td>63.740002</td>\n",
       "      <td>...</td>\n",
       "      <td>0.000000</td>\n",
       "      <td>0.000000</td>\n",
       "      <td>0.000000</td>\n",
       "      <td>0.000000</td>\n",
       "      <td>0.000000</td>\n",
       "      <td>0.000000</td>\n",
       "      <td>0.000000</td>\n",
       "      <td>0.000000</td>\n",
       "      <td>0.0</td>\n",
       "      <td>0.0</td>\n",
       "    </tr>\n",
       "    <tr>\n",
       "      <th>45</th>\n",
       "      <td>1840634</td>\n",
       "      <td>18</td>\n",
       "      <td>40634</td>\n",
       "      <td>0.592899</td>\n",
       "      <td>0</td>\n",
       "      <td>0.000000</td>\n",
       "      <td>0.88</td>\n",
       "      <td>0.0</td>\n",
       "      <td>44.910000</td>\n",
       "      <td>63.130001</td>\n",
       "      <td>...</td>\n",
       "      <td>0.018955</td>\n",
       "      <td>0.000000</td>\n",
       "      <td>0.485585</td>\n",
       "      <td>0.000000</td>\n",
       "      <td>0.241706</td>\n",
       "      <td>0.000000</td>\n",
       "      <td>0.226857</td>\n",
       "      <td>0.000000</td>\n",
       "      <td>0.0</td>\n",
       "      <td>0.0</td>\n",
       "    </tr>\n",
       "    <tr>\n",
       "      <th>46</th>\n",
       "      <td>1840725</td>\n",
       "      <td>18</td>\n",
       "      <td>40725</td>\n",
       "      <td>0.012987</td>\n",
       "      <td>0</td>\n",
       "      <td>0.000000</td>\n",
       "      <td>1.32</td>\n",
       "      <td>0.0</td>\n",
       "      <td>47.750000</td>\n",
       "      <td>89.820000</td>\n",
       "      <td>...</td>\n",
       "      <td>0.017937</td>\n",
       "      <td>0.018955</td>\n",
       "      <td>0.141562</td>\n",
       "      <td>0.485585</td>\n",
       "      <td>0.281193</td>\n",
       "      <td>0.241706</td>\n",
       "      <td>0.265494</td>\n",
       "      <td>0.226857</td>\n",
       "      <td>0.0</td>\n",
       "      <td>0.0</td>\n",
       "    </tr>\n",
       "    <tr>\n",
       "      <th>47</th>\n",
       "      <td>1840817</td>\n",
       "      <td>18</td>\n",
       "      <td>40817</td>\n",
       "      <td>0.863582</td>\n",
       "      <td>0</td>\n",
       "      <td>0.000000</td>\n",
       "      <td>1.24</td>\n",
       "      <td>0.0</td>\n",
       "      <td>37.310001</td>\n",
       "      <td>50.740002</td>\n",
       "      <td>...</td>\n",
       "      <td>0.013801</td>\n",
       "      <td>0.017937</td>\n",
       "      <td>0.208726</td>\n",
       "      <td>0.141562</td>\n",
       "      <td>0.344086</td>\n",
       "      <td>0.281193</td>\n",
       "      <td>0.331094</td>\n",
       "      <td>0.265494</td>\n",
       "      <td>0.0</td>\n",
       "      <td>0.0</td>\n",
       "    </tr>\n",
       "    <tr>\n",
       "      <th>48</th>\n",
       "      <td>1840909</td>\n",
       "      <td>18</td>\n",
       "      <td>40909</td>\n",
       "      <td>0.153477</td>\n",
       "      <td>0</td>\n",
       "      <td>0.000000</td>\n",
       "      <td>1.57</td>\n",
       "      <td>0.0</td>\n",
       "      <td>59.119999</td>\n",
       "      <td>54.900002</td>\n",
       "      <td>...</td>\n",
       "      <td>0.010916</td>\n",
       "      <td>0.013801</td>\n",
       "      <td>0.287062</td>\n",
       "      <td>0.208726</td>\n",
       "      <td>0.398155</td>\n",
       "      <td>0.344086</td>\n",
       "      <td>0.386186</td>\n",
       "      <td>0.331094</td>\n",
       "      <td>0.0</td>\n",
       "      <td>0.0</td>\n",
       "    </tr>\n",
       "    <tr>\n",
       "      <th>...</th>\n",
       "      <td>...</td>\n",
       "      <td>...</td>\n",
       "      <td>...</td>\n",
       "      <td>...</td>\n",
       "      <td>...</td>\n",
       "      <td>...</td>\n",
       "      <td>...</td>\n",
       "      <td>...</td>\n",
       "      <td>...</td>\n",
       "      <td>...</td>\n",
       "      <td>...</td>\n",
       "      <td>...</td>\n",
       "      <td>...</td>\n",
       "      <td>...</td>\n",
       "      <td>...</td>\n",
       "      <td>...</td>\n",
       "      <td>...</td>\n",
       "      <td>...</td>\n",
       "      <td>...</td>\n",
       "      <td>...</td>\n",
       "      <td>...</td>\n",
       "    </tr>\n",
       "    <tr>\n",
       "      <th>17566</th>\n",
       "      <td>348441640</td>\n",
       "      <td>3484</td>\n",
       "      <td>41640</td>\n",
       "      <td>0.074778</td>\n",
       "      <td>0</td>\n",
       "      <td>0.000000</td>\n",
       "      <td>0.72</td>\n",
       "      <td>0.0</td>\n",
       "      <td>75.120003</td>\n",
       "      <td>95.120003</td>\n",
       "      <td>...</td>\n",
       "      <td>0.006261</td>\n",
       "      <td>0.006347</td>\n",
       "      <td>0.668506</td>\n",
       "      <td>0.524031</td>\n",
       "      <td>0.005752</td>\n",
       "      <td>0.007612</td>\n",
       "      <td>0.001101</td>\n",
       "      <td>0.001094</td>\n",
       "      <td>0.0</td>\n",
       "      <td>0.0</td>\n",
       "    </tr>\n",
       "    <tr>\n",
       "      <th>17567</th>\n",
       "      <td>348441730</td>\n",
       "      <td>3484</td>\n",
       "      <td>41730</td>\n",
       "      <td>0.183805</td>\n",
       "      <td>0</td>\n",
       "      <td>18.219999</td>\n",
       "      <td>0.80</td>\n",
       "      <td>0.0</td>\n",
       "      <td>55.639999</td>\n",
       "      <td>78.070000</td>\n",
       "      <td>...</td>\n",
       "      <td>0.004750</td>\n",
       "      <td>0.006261</td>\n",
       "      <td>0.639776</td>\n",
       "      <td>0.668506</td>\n",
       "      <td>0.004716</td>\n",
       "      <td>0.005752</td>\n",
       "      <td>0.000856</td>\n",
       "      <td>0.001101</td>\n",
       "      <td>0.0</td>\n",
       "      <td>0.0</td>\n",
       "    </tr>\n",
       "    <tr>\n",
       "      <th>17568</th>\n",
       "      <td>348441821</td>\n",
       "      <td>3484</td>\n",
       "      <td>41821</td>\n",
       "      <td>0.080000</td>\n",
       "      <td>0</td>\n",
       "      <td>40.869999</td>\n",
       "      <td>0.40</td>\n",
       "      <td>0.0</td>\n",
       "      <td>59.250000</td>\n",
       "      <td>80.360001</td>\n",
       "      <td>...</td>\n",
       "      <td>0.004644</td>\n",
       "      <td>0.004750</td>\n",
       "      <td>0.278822</td>\n",
       "      <td>0.639776</td>\n",
       "      <td>0.003677</td>\n",
       "      <td>0.004716</td>\n",
       "      <td>0.000706</td>\n",
       "      <td>0.000856</td>\n",
       "      <td>0.0</td>\n",
       "      <td>0.0</td>\n",
       "    </tr>\n",
       "    <tr>\n",
       "      <th>17569</th>\n",
       "      <td>348441913</td>\n",
       "      <td>3484</td>\n",
       "      <td>41913</td>\n",
       "      <td>0.874835</td>\n",
       "      <td>0</td>\n",
       "      <td>36.310001</td>\n",
       "      <td>0.28</td>\n",
       "      <td>0.0</td>\n",
       "      <td>66.680000</td>\n",
       "      <td>96.639999</td>\n",
       "      <td>...</td>\n",
       "      <td>0.004203</td>\n",
       "      <td>0.004644</td>\n",
       "      <td>0.327984</td>\n",
       "      <td>0.278822</td>\n",
       "      <td>0.009309</td>\n",
       "      <td>0.003677</td>\n",
       "      <td>0.000656</td>\n",
       "      <td>0.000706</td>\n",
       "      <td>0.0</td>\n",
       "      <td>0.0</td>\n",
       "    </tr>\n",
       "    <tr>\n",
       "      <th>17570</th>\n",
       "      <td>348442005</td>\n",
       "      <td>3484</td>\n",
       "      <td>42005</td>\n",
       "      <td>0.055707</td>\n",
       "      <td>0</td>\n",
       "      <td>31.670000</td>\n",
       "      <td>0.17</td>\n",
       "      <td>0.0</td>\n",
       "      <td>124.029999</td>\n",
       "      <td>128.740005</td>\n",
       "      <td>...</td>\n",
       "      <td>0.004020</td>\n",
       "      <td>0.004203</td>\n",
       "      <td>0.416802</td>\n",
       "      <td>0.327984</td>\n",
       "      <td>0.006307</td>\n",
       "      <td>0.009309</td>\n",
       "      <td>0.000583</td>\n",
       "      <td>0.000656</td>\n",
       "      <td>0.0</td>\n",
       "      <td>0.0</td>\n",
       "    </tr>\n",
       "  </tbody>\n",
       "</table>\n",
       "<p>3186 rows × 335 columns</p>\n",
       "</div>"
      ],
      "text/plain": [
       "         licdate  regn   date      rang  default         h1  h101  h12  \\\n",
       "44       1840544    18  40544  0.331250        0   0.000000  0.80  0.0   \n",
       "45       1840634    18  40634  0.592899        0   0.000000  0.88  0.0   \n",
       "46       1840725    18  40725  0.012987        0   0.000000  1.32  0.0   \n",
       "47       1840817    18  40817  0.863582        0   0.000000  1.24  0.0   \n",
       "48       1840909    18  40909  0.153477        0   0.000000  1.57  0.0   \n",
       "...          ...   ...    ...       ...      ...        ...   ...  ...   \n",
       "17566  348441640  3484  41640  0.074778        0   0.000000  0.72  0.0   \n",
       "17567  348441730  3484  41730  0.183805        0  18.219999  0.80  0.0   \n",
       "17568  348441821  3484  41821  0.080000        0  40.869999  0.40  0.0   \n",
       "17569  348441913  3484  41913  0.874835        0  36.310001  0.28  0.0   \n",
       "17570  348442005  3484  42005  0.055707        0  31.670000  0.17  0.0   \n",
       "\n",
       "               h2          h3  ...  ma_active_lag_1  ma_active_lag_2  \\\n",
       "44      30.860001   63.740002  ...         0.000000         0.000000   \n",
       "45      44.910000   63.130001  ...         0.018955         0.000000   \n",
       "46      47.750000   89.820000  ...         0.017937         0.018955   \n",
       "47      37.310001   50.740002  ...         0.013801         0.017937   \n",
       "48      59.119999   54.900002  ...         0.010916         0.013801   \n",
       "...           ...         ...  ...              ...              ...   \n",
       "17566   75.120003   95.120003  ...         0.006261         0.006347   \n",
       "17567   55.639999   78.070000  ...         0.004750         0.006261   \n",
       "17568   59.250000   80.360001  ...         0.004644         0.004750   \n",
       "17569   66.680000   96.639999  ...         0.004203         0.004644   \n",
       "17570  124.029999  128.740005  ...         0.004020         0.004203   \n",
       "\n",
       "       ca+cp_active_lag_1  ca+cp_active_lag_2  s+w+v_active_lag_1  \\\n",
       "44               0.000000            0.000000            0.000000   \n",
       "45               0.485585            0.000000            0.241706   \n",
       "46               0.141562            0.485585            0.281193   \n",
       "47               0.208726            0.141562            0.344086   \n",
       "48               0.287062            0.208726            0.398155   \n",
       "...                   ...                 ...                 ...   \n",
       "17566            0.668506            0.524031            0.005752   \n",
       "17567            0.639776            0.668506            0.004716   \n",
       "17568            0.278822            0.639776            0.003677   \n",
       "17569            0.327984            0.278822            0.009309   \n",
       "17570            0.416802            0.327984            0.006307   \n",
       "\n",
       "       s+w+v_active_lag_2  s_active_lag_1  s_active_lag_2  gdo_ca_lag_1  \\\n",
       "44               0.000000        0.000000        0.000000           0.0   \n",
       "45               0.000000        0.226857        0.000000           0.0   \n",
       "46               0.241706        0.265494        0.226857           0.0   \n",
       "47               0.281193        0.331094        0.265494           0.0   \n",
       "48               0.344086        0.386186        0.331094           0.0   \n",
       "...                   ...             ...             ...           ...   \n",
       "17566            0.007612        0.001101        0.001094           0.0   \n",
       "17567            0.005752        0.000856        0.001101           0.0   \n",
       "17568            0.004716        0.000706        0.000856           0.0   \n",
       "17569            0.003677        0.000656        0.000706           0.0   \n",
       "17570            0.009309        0.000583        0.000656           0.0   \n",
       "\n",
       "       gdo_ca_lag_2  \n",
       "44              0.0  \n",
       "45              0.0  \n",
       "46              0.0  \n",
       "47              0.0  \n",
       "48              0.0  \n",
       "...             ...  \n",
       "17566           0.0  \n",
       "17567           0.0  \n",
       "17568           0.0  \n",
       "17569           0.0  \n",
       "17570           0.0  \n",
       "\n",
       "[3186 rows x 335 columns]"
      ]
     },
     "execution_count": 298,
     "metadata": {},
     "output_type": "execute_result"
    }
   ],
   "source": [
    "df_with_ratings"
   ]
  },
  {
   "cell_type": "code",
   "execution_count": 308,
   "id": "90fe3997",
   "metadata": {},
   "outputs": [],
   "source": [
    "def test_model(data, model, name='no name', upsample=True, printing=True):\n",
    "    n_splits=5\n",
    "\n",
    "    y_df_numbers = data['defaultfull']\n",
    "    \n",
    "#     y_df_numbers = data['default']\n",
    "    x_df_numbers = data.drop(['default', 'defaultfull'], axis=1)\n",
    "\n",
    "    train_test_split = StratifiedKFold(n_splits=n_splits)\n",
    "    split = train_test_split.split(x_df_numbers, y_df_numbers)\n",
    "    \n",
    "    print(f'--- {name} ---')\n",
    "\n",
    "    print('\\t', 'recall, accuracy, roc_auc, f_1', sep='')\n",
    "    print()\n",
    "\n",
    "    for i in range(n_splits):\n",
    "        \n",
    "        if printing:\n",
    "            print(i + 1, end='\\t')\n",
    "\n",
    "        model = model\n",
    "\n",
    "        current_split = next(split)\n",
    "\n",
    "        train_x, train_y = x_df_numbers.iloc[current_split[0]], y_df_numbers.iloc[current_split[0]]\n",
    "        test_x, test_y = x_df_numbers.iloc[current_split[1]], y_df_numbers.iloc[current_split[1]]\n",
    "\n",
    "        train_df = train_x\n",
    "        train_df['default'] = train_y\n",
    "\n",
    "        default = train_df[train_df['default'] == 1]\n",
    "        not_default = train_df[train_df['default'] == 0]\n",
    "        \n",
    "        if upsample:\n",
    "            default_upsampled = resample(default, replace=True, n_samples=len(not_default), random_state=2114)\n",
    "        \n",
    "        else:\n",
    "            default_upsampled = default\n",
    "\n",
    "        # combine majority and upsampled minority\n",
    "\n",
    "        upsampled = pd.concat([not_default, default_upsampled])\n",
    "\n",
    "        upsampled_x = upsampled.drop(['default'], axis=1)\n",
    "        upsampled_y = upsampled['default']\n",
    "\n",
    "    #     print(upsampled['default'].sum(), upsampled.shape[0])\n",
    "    \n",
    "#         regul = StandardScaler()\n",
    "\n",
    "        model.fit(upsampled_x, upsampled_y)\n",
    "\n",
    "        prediction = list(map(lambda x: 1 if x[1] > 0.5 else 0, model.predict_proba(test_x)))\n",
    "\n",
    "        # print(round(recall_score(upsampled_y, model.predict(upsampled_x)), 3))                                                             \n",
    "        \n",
    "        if printing:\n",
    "            print(round(recall_score(test_y, prediction), 2), round(accuracy_score(test_y, prediction), 2), round(roc_auc_score(test_y, prediction), 2), round(f1_score(test_y, prediction), 2))"
   ]
  },
  {
   "cell_type": "code",
   "execution_count": 329,
   "id": "f4610953",
   "metadata": {},
   "outputs": [
    {
     "data": {
      "text/html": [
       "<div>\n",
       "<style scoped>\n",
       "    .dataframe tbody tr th:only-of-type {\n",
       "        vertical-align: middle;\n",
       "    }\n",
       "\n",
       "    .dataframe tbody tr th {\n",
       "        vertical-align: top;\n",
       "    }\n",
       "\n",
       "    .dataframe thead th {\n",
       "        text-align: right;\n",
       "    }\n",
       "</style>\n",
       "<table border=\"1\" class=\"dataframe\">\n",
       "  <thead>\n",
       "    <tr style=\"text-align: right;\">\n",
       "      <th></th>\n",
       "      <th>licdate</th>\n",
       "      <th>regn</th>\n",
       "      <th>date</th>\n",
       "      <th>rang</th>\n",
       "      <th>default</th>\n",
       "      <th>h1</th>\n",
       "      <th>h101</th>\n",
       "      <th>h12</th>\n",
       "      <th>h2</th>\n",
       "      <th>h3</th>\n",
       "      <th>...</th>\n",
       "      <th>ma_active_lag_1</th>\n",
       "      <th>ma_active_lag_2</th>\n",
       "      <th>ca+cp_active_lag_1</th>\n",
       "      <th>ca+cp_active_lag_2</th>\n",
       "      <th>s+w+v_active_lag_1</th>\n",
       "      <th>s+w+v_active_lag_2</th>\n",
       "      <th>s_active_lag_1</th>\n",
       "      <th>s_active_lag_2</th>\n",
       "      <th>gdo_ca_lag_1</th>\n",
       "      <th>gdo_ca_lag_2</th>\n",
       "    </tr>\n",
       "  </thead>\n",
       "  <tbody>\n",
       "    <tr>\n",
       "      <th>0</th>\n",
       "      <td>-2.118141</td>\n",
       "      <td>-2.118131</td>\n",
       "      <td>-1.699850</td>\n",
       "      <td>0.221943</td>\n",
       "      <td>-0.115565</td>\n",
       "      <td>-0.465021</td>\n",
       "      <td>-0.236159</td>\n",
       "      <td>-0.240919</td>\n",
       "      <td>-0.035360</td>\n",
       "      <td>-0.030319</td>\n",
       "      <td>...</td>\n",
       "      <td>-0.753672</td>\n",
       "      <td>-0.727714</td>\n",
       "      <td>-1.512769</td>\n",
       "      <td>-1.393439</td>\n",
       "      <td>-0.907060</td>\n",
       "      <td>-0.867619</td>\n",
       "      <td>-0.627984</td>\n",
       "      <td>-0.607208</td>\n",
       "      <td>-0.112805</td>\n",
       "      <td>-0.108933</td>\n",
       "    </tr>\n",
       "    <tr>\n",
       "      <th>1</th>\n",
       "      <td>-2.118140</td>\n",
       "      <td>-2.118131</td>\n",
       "      <td>-1.542114</td>\n",
       "      <td>-1.033862</td>\n",
       "      <td>-0.115565</td>\n",
       "      <td>-0.465021</td>\n",
       "      <td>-0.582864</td>\n",
       "      <td>-0.240919</td>\n",
       "      <td>-0.035365</td>\n",
       "      <td>-0.030323</td>\n",
       "      <td>...</td>\n",
       "      <td>-0.675811</td>\n",
       "      <td>-0.727714</td>\n",
       "      <td>-0.178741</td>\n",
       "      <td>-1.393439</td>\n",
       "      <td>-0.703149</td>\n",
       "      <td>-0.867619</td>\n",
       "      <td>-0.627984</td>\n",
       "      <td>-0.607208</td>\n",
       "      <td>-0.112805</td>\n",
       "      <td>-0.108933</td>\n",
       "    </tr>\n",
       "    <tr>\n",
       "      <th>2</th>\n",
       "      <td>-2.118139</td>\n",
       "      <td>-2.118131</td>\n",
       "      <td>-1.384379</td>\n",
       "      <td>0.707948</td>\n",
       "      <td>-0.115565</td>\n",
       "      <td>-0.465021</td>\n",
       "      <td>-0.540286</td>\n",
       "      <td>-0.240919</td>\n",
       "      <td>-0.035352</td>\n",
       "      <td>-0.030321</td>\n",
       "      <td>...</td>\n",
       "      <td>-0.689527</td>\n",
       "      <td>-0.648001</td>\n",
       "      <td>0.177082</td>\n",
       "      <td>-0.050076</td>\n",
       "      <td>-0.718392</td>\n",
       "      <td>-0.663384</td>\n",
       "      <td>-0.627984</td>\n",
       "      <td>-0.607208</td>\n",
       "      <td>-0.112805</td>\n",
       "      <td>-0.108933</td>\n",
       "    </tr>\n",
       "    <tr>\n",
       "      <th>3</th>\n",
       "      <td>-2.118138</td>\n",
       "      <td>-2.118131</td>\n",
       "      <td>-1.230073</td>\n",
       "      <td>1.491656</td>\n",
       "      <td>-0.115565</td>\n",
       "      <td>-0.465021</td>\n",
       "      <td>-0.552451</td>\n",
       "      <td>-0.240919</td>\n",
       "      <td>-0.035367</td>\n",
       "      <td>-0.030323</td>\n",
       "      <td>...</td>\n",
       "      <td>-0.695913</td>\n",
       "      <td>-0.662043</td>\n",
       "      <td>0.493767</td>\n",
       "      <td>0.308238</td>\n",
       "      <td>-0.764696</td>\n",
       "      <td>-0.678651</td>\n",
       "      <td>-0.627984</td>\n",
       "      <td>-0.607208</td>\n",
       "      <td>-0.112805</td>\n",
       "      <td>-0.108933</td>\n",
       "    </tr>\n",
       "    <tr>\n",
       "      <th>4</th>\n",
       "      <td>-2.118138</td>\n",
       "      <td>-2.118131</td>\n",
       "      <td>-1.074052</td>\n",
       "      <td>-0.285894</td>\n",
       "      <td>-0.115565</td>\n",
       "      <td>-0.465021</td>\n",
       "      <td>-0.588947</td>\n",
       "      <td>-0.240919</td>\n",
       "      <td>-0.035363</td>\n",
       "      <td>-0.030322</td>\n",
       "      <td>...</td>\n",
       "      <td>-0.685660</td>\n",
       "      <td>-0.668581</td>\n",
       "      <td>-0.784852</td>\n",
       "      <td>0.627139</td>\n",
       "      <td>-0.682845</td>\n",
       "      <td>-0.725029</td>\n",
       "      <td>-0.627984</td>\n",
       "      <td>-0.607208</td>\n",
       "      <td>-0.112805</td>\n",
       "      <td>-0.108933</td>\n",
       "    </tr>\n",
       "    <tr>\n",
       "      <th>...</th>\n",
       "      <td>...</td>\n",
       "      <td>...</td>\n",
       "      <td>...</td>\n",
       "      <td>...</td>\n",
       "      <td>...</td>\n",
       "      <td>...</td>\n",
       "      <td>...</td>\n",
       "      <td>...</td>\n",
       "      <td>...</td>\n",
       "      <td>...</td>\n",
       "      <td>...</td>\n",
       "      <td>...</td>\n",
       "      <td>...</td>\n",
       "      <td>...</td>\n",
       "      <td>...</td>\n",
       "      <td>...</td>\n",
       "      <td>...</td>\n",
       "      <td>...</td>\n",
       "      <td>...</td>\n",
       "      <td>...</td>\n",
       "      <td>...</td>\n",
       "    </tr>\n",
       "    <tr>\n",
       "      <th>17826</th>\n",
       "      <td>1.355761</td>\n",
       "      <td>1.355753</td>\n",
       "      <td>1.430851</td>\n",
       "      <td>0.692649</td>\n",
       "      <td>-0.115565</td>\n",
       "      <td>5.855403</td>\n",
       "      <td>-0.588947</td>\n",
       "      <td>-0.240919</td>\n",
       "      <td>-0.035352</td>\n",
       "      <td>-0.030310</td>\n",
       "      <td>...</td>\n",
       "      <td>-0.753672</td>\n",
       "      <td>-0.727714</td>\n",
       "      <td>-1.512769</td>\n",
       "      <td>-1.393439</td>\n",
       "      <td>-0.907060</td>\n",
       "      <td>-0.867619</td>\n",
       "      <td>-0.627984</td>\n",
       "      <td>-0.607208</td>\n",
       "      <td>-0.112805</td>\n",
       "      <td>-0.108933</td>\n",
       "    </tr>\n",
       "    <tr>\n",
       "      <th>17827</th>\n",
       "      <td>1.355762</td>\n",
       "      <td>1.355753</td>\n",
       "      <td>1.588586</td>\n",
       "      <td>1.445166</td>\n",
       "      <td>-0.115565</td>\n",
       "      <td>5.830917</td>\n",
       "      <td>-0.601112</td>\n",
       "      <td>-0.240919</td>\n",
       "      <td>-0.035304</td>\n",
       "      <td>-0.030245</td>\n",
       "      <td>...</td>\n",
       "      <td>-0.730092</td>\n",
       "      <td>-0.727714</td>\n",
       "      <td>0.209625</td>\n",
       "      <td>-1.393439</td>\n",
       "      <td>-0.856688</td>\n",
       "      <td>-0.867619</td>\n",
       "      <td>-0.627984</td>\n",
       "      <td>-0.607208</td>\n",
       "      <td>-0.112805</td>\n",
       "      <td>-0.108933</td>\n",
       "    </tr>\n",
       "    <tr>\n",
       "      <th>17828</th>\n",
       "      <td>1.355763</td>\n",
       "      <td>1.355753</td>\n",
       "      <td>1.746322</td>\n",
       "      <td>0.882981</td>\n",
       "      <td>-0.115565</td>\n",
       "      <td>3.666363</td>\n",
       "      <td>-0.601112</td>\n",
       "      <td>-0.240919</td>\n",
       "      <td>-0.035363</td>\n",
       "      <td>-0.030282</td>\n",
       "      <td>...</td>\n",
       "      <td>-0.734610</td>\n",
       "      <td>-0.703574</td>\n",
       "      <td>0.481190</td>\n",
       "      <td>0.341009</td>\n",
       "      <td>-0.875089</td>\n",
       "      <td>-0.817167</td>\n",
       "      <td>-0.627984</td>\n",
       "      <td>-0.607208</td>\n",
       "      <td>-0.112805</td>\n",
       "      <td>-0.108933</td>\n",
       "    </tr>\n",
       "    <tr>\n",
       "      <th>17829</th>\n",
       "      <td>1.359706</td>\n",
       "      <td>1.359697</td>\n",
       "      <td>1.588586</td>\n",
       "      <td>0.887425</td>\n",
       "      <td>-0.115565</td>\n",
       "      <td>10.227972</td>\n",
       "      <td>-0.601112</td>\n",
       "      <td>-0.240919</td>\n",
       "      <td>-0.035355</td>\n",
       "      <td>-0.003502</td>\n",
       "      <td>...</td>\n",
       "      <td>-0.753672</td>\n",
       "      <td>-0.727714</td>\n",
       "      <td>-1.512769</td>\n",
       "      <td>-1.393439</td>\n",
       "      <td>-0.907060</td>\n",
       "      <td>-0.867619</td>\n",
       "      <td>-0.627984</td>\n",
       "      <td>-0.607208</td>\n",
       "      <td>-0.112805</td>\n",
       "      <td>-0.108933</td>\n",
       "    </tr>\n",
       "    <tr>\n",
       "      <th>17830</th>\n",
       "      <td>1.359707</td>\n",
       "      <td>1.359697</td>\n",
       "      <td>1.746322</td>\n",
       "      <td>0.393876</td>\n",
       "      <td>-0.115565</td>\n",
       "      <td>6.702003</td>\n",
       "      <td>-0.601112</td>\n",
       "      <td>-0.240919</td>\n",
       "      <td>-0.035336</td>\n",
       "      <td>-0.029704</td>\n",
       "      <td>...</td>\n",
       "      <td>-0.508629</td>\n",
       "      <td>-0.727714</td>\n",
       "      <td>0.234536</td>\n",
       "      <td>-1.393439</td>\n",
       "      <td>-0.907060</td>\n",
       "      <td>-0.867619</td>\n",
       "      <td>-0.627984</td>\n",
       "      <td>-0.607208</td>\n",
       "      <td>-0.112805</td>\n",
       "      <td>-0.108933</td>\n",
       "    </tr>\n",
       "  </tbody>\n",
       "</table>\n",
       "<p>17831 rows × 341 columns</p>\n",
       "</div>"
      ],
      "text/plain": [
       "        licdate      regn      date      rang   default         h1      h101  \\\n",
       "0     -2.118141 -2.118131 -1.699850  0.221943 -0.115565  -0.465021 -0.236159   \n",
       "1     -2.118140 -2.118131 -1.542114 -1.033862 -0.115565  -0.465021 -0.582864   \n",
       "2     -2.118139 -2.118131 -1.384379  0.707948 -0.115565  -0.465021 -0.540286   \n",
       "3     -2.118138 -2.118131 -1.230073  1.491656 -0.115565  -0.465021 -0.552451   \n",
       "4     -2.118138 -2.118131 -1.074052 -0.285894 -0.115565  -0.465021 -0.588947   \n",
       "...         ...       ...       ...       ...       ...        ...       ...   \n",
       "17826  1.355761  1.355753  1.430851  0.692649 -0.115565   5.855403 -0.588947   \n",
       "17827  1.355762  1.355753  1.588586  1.445166 -0.115565   5.830917 -0.601112   \n",
       "17828  1.355763  1.355753  1.746322  0.882981 -0.115565   3.666363 -0.601112   \n",
       "17829  1.359706  1.359697  1.588586  0.887425 -0.115565  10.227972 -0.601112   \n",
       "17830  1.359707  1.359697  1.746322  0.393876 -0.115565   6.702003 -0.601112   \n",
       "\n",
       "            h12        h2        h3  ...  ma_active_lag_1  ma_active_lag_2  \\\n",
       "0     -0.240919 -0.035360 -0.030319  ...        -0.753672        -0.727714   \n",
       "1     -0.240919 -0.035365 -0.030323  ...        -0.675811        -0.727714   \n",
       "2     -0.240919 -0.035352 -0.030321  ...        -0.689527        -0.648001   \n",
       "3     -0.240919 -0.035367 -0.030323  ...        -0.695913        -0.662043   \n",
       "4     -0.240919 -0.035363 -0.030322  ...        -0.685660        -0.668581   \n",
       "...         ...       ...       ...  ...              ...              ...   \n",
       "17826 -0.240919 -0.035352 -0.030310  ...        -0.753672        -0.727714   \n",
       "17827 -0.240919 -0.035304 -0.030245  ...        -0.730092        -0.727714   \n",
       "17828 -0.240919 -0.035363 -0.030282  ...        -0.734610        -0.703574   \n",
       "17829 -0.240919 -0.035355 -0.003502  ...        -0.753672        -0.727714   \n",
       "17830 -0.240919 -0.035336 -0.029704  ...        -0.508629        -0.727714   \n",
       "\n",
       "       ca+cp_active_lag_1  ca+cp_active_lag_2  s+w+v_active_lag_1  \\\n",
       "0               -1.512769           -1.393439           -0.907060   \n",
       "1               -0.178741           -1.393439           -0.703149   \n",
       "2                0.177082           -0.050076           -0.718392   \n",
       "3                0.493767            0.308238           -0.764696   \n",
       "4               -0.784852            0.627139           -0.682845   \n",
       "...                   ...                 ...                 ...   \n",
       "17826           -1.512769           -1.393439           -0.907060   \n",
       "17827            0.209625           -1.393439           -0.856688   \n",
       "17828            0.481190            0.341009           -0.875089   \n",
       "17829           -1.512769           -1.393439           -0.907060   \n",
       "17830            0.234536           -1.393439           -0.907060   \n",
       "\n",
       "       s+w+v_active_lag_2  s_active_lag_1  s_active_lag_2  gdo_ca_lag_1  \\\n",
       "0               -0.867619       -0.627984       -0.607208     -0.112805   \n",
       "1               -0.867619       -0.627984       -0.607208     -0.112805   \n",
       "2               -0.663384       -0.627984       -0.607208     -0.112805   \n",
       "3               -0.678651       -0.627984       -0.607208     -0.112805   \n",
       "4               -0.725029       -0.627984       -0.607208     -0.112805   \n",
       "...                   ...             ...             ...           ...   \n",
       "17826           -0.867619       -0.627984       -0.607208     -0.112805   \n",
       "17827           -0.867619       -0.627984       -0.607208     -0.112805   \n",
       "17828           -0.817167       -0.627984       -0.607208     -0.112805   \n",
       "17829           -0.867619       -0.627984       -0.607208     -0.112805   \n",
       "17830           -0.867619       -0.627984       -0.607208     -0.112805   \n",
       "\n",
       "       gdo_ca_lag_2  \n",
       "0         -0.108933  \n",
       "1         -0.108933  \n",
       "2         -0.108933  \n",
       "3         -0.108933  \n",
       "4         -0.108933  \n",
       "...             ...  \n",
       "17826     -0.108933  \n",
       "17827     -0.108933  \n",
       "17828     -0.108933  \n",
       "17829     -0.108933  \n",
       "17830     -0.108933  \n",
       "\n",
       "[17831 rows x 341 columns]"
      ]
     },
     "execution_count": 329,
     "metadata": {},
     "output_type": "execute_result"
    }
   ],
   "source": [
    "def regularize(data):\n",
    "    pass\n",
    "\n",
    "regul = StandardScaler()\n",
    "pd.DataFrame(regul.fit_transform(df), columns=df.columns)"
   ]
  },
  {
   "cell_type": "markdown",
   "id": "c26fec0e",
   "metadata": {},
   "source": [
    "## Log Regression"
   ]
  },
  {
   "cell_type": "code",
   "execution_count": 313,
   "id": "da1e7c66",
   "metadata": {},
   "outputs": [
    {
     "name": "stdout",
     "output_type": "stream",
     "text": [
      "--- LogisticRegression_with_rating ---\n",
      "\trecall, accuracy, roc_auc, f_1\n",
      "\n",
      "1\t0.64 0.78 0.71 0.3\n",
      "2\t0.63 0.61 0.62 0.19\n",
      "3\t0.45 0.66 0.56 0.16\n",
      "4\t0.79 0.51 0.64 0.19\n",
      "5\t0.83 0.53 0.67 0.21\n",
      "\n",
      "/////--- no rating ---/////\n",
      "\n",
      "--- LogisticRegression_no_rating ---\n",
      "\trecall, accuracy, roc_auc, f_1\n",
      "\n",
      "1\t0.65 0.54 0.59 0.13\n",
      "2\t0.77 0.4 0.57 0.12\n",
      "3\t0.8 0.42 0.6 0.13\n",
      "4\t0.83 0.31 0.56 0.12\n",
      "5\t0.97 0.28 0.61 0.13\n"
     ]
    }
   ],
   "source": [
    "model = LogisticRegression(C=0.4, class_weight = {})\n",
    "\n",
    "test_model(df_with_ratings.drop(lags_columns, axis=1), model, 'LogisticRegression_with_rating')\n",
    "print()\n",
    "print('/////--- no rating ---/////')\n",
    "print()\n",
    "test_model(df_no_ratings.drop(lags_columns, axis=1), model, 'LogisticRegression_no_rating')"
   ]
  },
  {
   "cell_type": "code",
   "execution_count": 334,
   "id": "f24859b1",
   "metadata": {},
   "outputs": [
    {
     "name": "stdout",
     "output_type": "stream",
     "text": [
      "--- LogisticRegression_with_rating ---\n",
      "\trecall, accuracy, roc_auc, f_1\n",
      "\n",
      "1\t0.43 0.62 0.53 0.14\n",
      "2\t0.37 0.71 0.55 0.15\n",
      "3\t0.53 0.76 0.65 0.24\n",
      "4\t0.64 0.68 0.66 0.23\n",
      "5\t0.45 0.75 0.61 0.21\n",
      "\n",
      "/////--- no rating ---/////\n",
      "\n",
      "--- LogisticRegression_no_rating ---\n",
      "\trecall, accuracy, roc_auc, f_1\n",
      "\n",
      "1\t0.56 0.65 0.61 0.15\n",
      "2\t0.45 0.67 0.57 0.13\n",
      "3\t0.43 0.67 0.56 0.13\n",
      "4\t0.53 0.6 0.57 0.13\n",
      "5\t0.42 0.64 0.54 0.11\n"
     ]
    }
   ],
   "source": [
    "model = LogisticRegression(C=0.4, class_weight = {})\n",
    "\n",
    "test_model(df_with_ratings, model, 'LogisticRegression_with_rating')\n",
    "print()\n",
    "print('/////--- no rating ---/////')\n",
    "print()\n",
    "test_model(df_no_ratings, model, 'LogisticRegression_no_rating')"
   ]
  },
  {
   "cell_type": "code",
   "execution_count": null,
   "id": "6ae85ec4",
   "metadata": {},
   "outputs": [],
   "source": [
    "model = LogisticRegression(C=0.4, class_weight = {})\n",
    "\n",
    "test_model(df_with_ratings, model, 'LogisticRegression_with_rating')\n",
    "print()\n",
    "print('/////--- no rating ---/////')\n",
    "print()\n",
    "test_model(df_no_ratings, model, 'LogisticRegression_no_rating')"
   ]
  },
  {
   "cell_type": "markdown",
   "id": "f0847480",
   "metadata": {},
   "source": [
    "## Descision tree"
   ]
  },
  {
   "cell_type": "code",
   "execution_count": 314,
   "id": "d7e00cd1",
   "metadata": {},
   "outputs": [
    {
     "name": "stdout",
     "output_type": "stream",
     "text": [
      "--- DecisionTreeClassifier_with_rating ---\n",
      "\trecall, accuracy, roc_auc, f_1\n",
      "\n",
      "1\t0.11 0.93 0.55 0.18\n",
      "2\t0.13 0.88 0.53 0.13\n",
      "3\t0.21 0.91 0.59 0.25\n",
      "4\t0.17 0.84 0.53 0.13\n",
      "5\t0.02 0.9 0.5 0.03\n",
      "\n",
      "/////--- no rating ---/////\n",
      "\n",
      "--- DecisionTreeClassifier_no_rating ---\n",
      "\trecall, accuracy, roc_auc, f_1\n",
      "\n",
      "1\t0.01 0.93 0.49 0.01\n",
      "2\t0.13 0.89 0.53 0.11\n",
      "3\t0.16 0.91 0.56 0.16\n",
      "4\t0.26 0.89 0.6 0.21\n",
      "5\t0.08 0.92 0.52 0.1\n"
     ]
    }
   ],
   "source": [
    "model = DecisionTreeClassifier()\n",
    "\n",
    "test_model(df_with_ratings, model, 'DecisionTreeClassifier_with_rating')\n",
    "print()\n",
    "print('/////--- no rating ---/////')\n",
    "print()\n",
    "test_model(df_no_ratings, model, 'DecisionTreeClassifier_no_rating')"
   ]
  },
  {
   "cell_type": "markdown",
   "id": "d37d7dfb",
   "metadata": {},
   "source": [
    "## KNN Classifier"
   ]
  },
  {
   "cell_type": "code",
   "execution_count": 315,
   "id": "4a7ba562",
   "metadata": {},
   "outputs": [
    {
     "name": "stdout",
     "output_type": "stream",
     "text": [
      "--- KNeighborsClassifier_with_rating ---\n",
      "\trecall, accuracy, roc_auc, f_1\n",
      "\n",
      "1\t0.66 0.46 0.55 0.15\n",
      "2\t0.11 0.74 0.45 0.06\n",
      "3\t0.3 0.72 0.53 0.14\n",
      "4\t0.3 0.73 0.53 0.14\n",
      "5\t0.0 0.91 0.49 0.0\n",
      "\n",
      "/////--- no rating ---/////\n",
      "\n",
      "--- KNeighborsClassifier_no_rating ---\n",
      "\trecall, accuracy, roc_auc, f_1\n",
      "\n",
      "1\t0.01 0.94 0.5 0.01\n",
      "2\t0.19 0.59 0.4 0.05\n",
      "3\t0.75 0.37 0.55 0.12\n",
      "4\t0.43 0.55 0.49 0.09\n",
      "5\t0.03 0.92 0.5 0.03\n"
     ]
    }
   ],
   "source": [
    "model = KNeighborsClassifier()\n",
    "\n",
    "test_model(df_with_ratings, model, 'KNeighborsClassifier_with_rating')\n",
    "print()\n",
    "print('/////--- no rating ---/////')\n",
    "print()\n",
    "test_model(df_no_ratings, model, 'KNeighborsClassifier_no_rating')"
   ]
  },
  {
   "cell_type": "markdown",
   "id": "67cc9b84",
   "metadata": {},
   "source": [
    "## SVC"
   ]
  },
  {
   "cell_type": "code",
   "execution_count": 316,
   "id": "0914060a",
   "metadata": {},
   "outputs": [],
   "source": [
    "# model = SVC(probability=True)\n",
    "\n",
    "# test_model(df_with_ratings, model, 'SVC_with_rating')\n",
    "# print()\n",
    "# print('/////--- no rating ---/////')\n",
    "# print()\n",
    "# test_model(df_no_ratings, model, 'SVC_no_rating')"
   ]
  },
  {
   "cell_type": "markdown",
   "id": "7c1a4b9f",
   "metadata": {},
   "source": [
    "## ADA Gradient Boosting"
   ]
  },
  {
   "cell_type": "code",
   "execution_count": 317,
   "id": "0bb7472d",
   "metadata": {},
   "outputs": [
    {
     "name": "stdout",
     "output_type": "stream",
     "text": [
      "--- AdaBoostClassifier_with_rating ---\n",
      "\trecall, accuracy, roc_auc, f_1\n",
      "\n",
      "1\t0.6 0.85 0.73 0.37\n",
      "2\t0.33 0.78 0.57 0.18\n",
      "3\t0.47 0.89 0.7 0.39\n",
      "4\t0.7 0.83 0.77 0.37\n",
      "5\t0.09 0.92 0.54 0.14\n",
      "\n",
      "/////--- no rating ---/////\n",
      "\n",
      "--- AdaBoostClassifier_no_rating ---\n",
      "\trecall, accuracy, roc_auc, f_1\n",
      "\n",
      "1\t0.0 0.95 0.5 0.0\n",
      "2\t0.59 0.79 0.69 0.23\n",
      "3\t0.52 0.78 0.66 0.21\n",
      "4\t0.72 0.7 0.71 0.21\n",
      "5\t0.13 0.94 0.56 0.19\n"
     ]
    }
   ],
   "source": [
    "model = AdaBoostClassifier()\n",
    "\n",
    "test_model(df_with_ratings, model, 'AdaBoostClassifier_with_rating')\n",
    "print()\n",
    "print('/////--- no rating ---/////')\n",
    "print()\n",
    "test_model(df_no_ratings, model, 'AdaBoostClassifier_no_rating')"
   ]
  },
  {
   "cell_type": "markdown",
   "id": "e8dd8c45",
   "metadata": {},
   "source": [
    "## Random Forest Classifier"
   ]
  },
  {
   "cell_type": "code",
   "execution_count": 318,
   "id": "b566d117",
   "metadata": {},
   "outputs": [
    {
     "name": "stdout",
     "output_type": "stream",
     "text": [
      "--- RandomForestClassifier_with_rating ---\n",
      "\trecall, accuracy, roc_auc, f_1\n",
      "\n",
      "1\t0.02 0.93 0.51 0.04\n",
      "2\t0.04 0.92 0.52 0.08\n",
      "3\t0.11 0.93 0.55 0.19\n",
      "4\t0.11 0.93 0.55 0.19\n",
      "5\t0.11 0.93 0.55 0.18\n",
      "\n",
      "/////--- no rating ---/////\n",
      "\n",
      "--- RandomForestClassifier_no_rating ---\n",
      "\trecall, accuracy, roc_auc, f_1\n",
      "\n",
      "1\t0.0 0.95 0.5 0.0\n",
      "2\t0.0 0.95 0.5 0.0\n",
      "3\t0.01 0.94 0.5 0.01\n",
      "4\t0.02 0.95 0.51 0.04\n",
      "5\t0.01 0.95 0.5 0.01\n"
     ]
    }
   ],
   "source": [
    "model = RandomForestClassifier(n_estimators = 60)\n",
    "\n",
    "test_model(df_with_ratings, model, 'RandomForestClassifier_with_rating')\n",
    "print()\n",
    "print('/////--- no rating ---/////')\n",
    "print()\n",
    "test_model(df_no_ratings, model, 'RandomForestClassifier_no_rating')"
   ]
  },
  {
   "cell_type": "markdown",
   "id": "50c2d717",
   "metadata": {},
   "source": [
    "### Feature selection methods"
   ]
  },
  {
   "cell_type": "markdown",
   "id": "9b8154bd",
   "metadata": {},
   "source": [
    "#### Forward stepwise selection"
   ]
  },
  {
   "cell_type": "code",
   "execution_count": null,
   "id": "58e47259",
   "metadata": {},
   "outputs": [],
   "source": []
  },
  {
   "cell_type": "code",
   "execution_count": 327,
   "id": "d8101f8a",
   "metadata": {},
   "outputs": [],
   "source": [
    "model = LogisticRegression(C=0.4, class_weight = {})\n",
    "\n",
    "sfs = SequentialFeatureSelector(model,\n",
    "                                k_features=10,\n",
    "                                forward=True,\n",
    "                                scoring='recall',\n",
    "                                cv=5)\n",
    "\n",
    "\n",
    "selected_features = sfs.fit(df_with_ratings.drop(['default', 'defaultfull'], axis=1), df_with_ratings['defaultfull'])"
   ]
  },
  {
   "cell_type": "code",
   "execution_count": 332,
   "id": "af0f419f",
   "metadata": {},
   "outputs": [
    {
     "name": "stdout",
     "output_type": "stream",
     "text": [
      "('rang', 'h101', 'h12', 'h91', 's', 'v', 'aa_lag_1', 's_lag_2', 'v_lag_1', 'lg_lag_2') 0.2304347826086956\n"
     ]
    }
   ],
   "source": [
    "print(selected_features.k_feature_names_, selected_features.k_score_)\n",
    "\n"
   ]
  },
  {
   "cell_type": "code",
   "execution_count": 325,
   "id": "a8746d9c",
   "metadata": {},
   "outputs": [
    {
     "ename": "NotFittedError",
     "evalue": "This LogisticRegression instance is not fitted yet. Call 'fit' with appropriate arguments before using this estimator.",
     "output_type": "error",
     "traceback": [
      "\u001b[0;31m---------------------------------------------------------------------------\u001b[0m",
      "\u001b[0;31mNotFittedError\u001b[0m                            Traceback (most recent call last)",
      "\u001b[0;32m/var/folders/60/vn9f33214sj9fh95tkj50p1r0000gn/T/ipykernel_2967/3221985100.py\u001b[0m in \u001b[0;36m<module>\u001b[0;34m\u001b[0m\n\u001b[0;32m----> 1\u001b[0;31m \u001b[0mroc_auc_score\u001b[0m\u001b[0;34m(\u001b[0m\u001b[0mmodel\u001b[0m\u001b[0;34m.\u001b[0m\u001b[0mpredict\u001b[0m\u001b[0;34m(\u001b[0m\u001b[0mdf_with_ratings\u001b[0m\u001b[0;34m.\u001b[0m\u001b[0mdrop\u001b[0m\u001b[0;34m(\u001b[0m\u001b[0;34m[\u001b[0m\u001b[0;34m'default'\u001b[0m\u001b[0;34m,\u001b[0m \u001b[0;34m'defaultfull'\u001b[0m\u001b[0;34m]\u001b[0m\u001b[0;34m,\u001b[0m \u001b[0maxis\u001b[0m\u001b[0;34m=\u001b[0m\u001b[0;36m1\u001b[0m\u001b[0;34m)\u001b[0m\u001b[0;34m)\u001b[0m\u001b[0;34m,\u001b[0m \u001b[0mdf_with_ratings\u001b[0m\u001b[0;34m[\u001b[0m\u001b[0;34m'defaultfull'\u001b[0m\u001b[0;34m]\u001b[0m\u001b[0;34m)\u001b[0m\u001b[0;34m\u001b[0m\u001b[0;34m\u001b[0m\u001b[0m\n\u001b[0m",
      "\u001b[0;32m/Applications/anaconda/anaconda3/lib/python3.9/site-packages/sklearn/linear_model/_base.py\u001b[0m in \u001b[0;36mpredict\u001b[0;34m(self, X)\u001b[0m\n\u001b[1;32m    445\u001b[0m             \u001b[0mVector\u001b[0m \u001b[0mcontaining\u001b[0m \u001b[0mthe\u001b[0m \u001b[0;32mclass\u001b[0m \u001b[0mlabels\u001b[0m \u001b[0;32mfor\u001b[0m \u001b[0meach\u001b[0m \u001b[0msample\u001b[0m\u001b[0;34m.\u001b[0m\u001b[0;34m\u001b[0m\u001b[0;34m\u001b[0m\u001b[0m\n\u001b[1;32m    446\u001b[0m         \"\"\"\n\u001b[0;32m--> 447\u001b[0;31m         \u001b[0mscores\u001b[0m \u001b[0;34m=\u001b[0m \u001b[0mself\u001b[0m\u001b[0;34m.\u001b[0m\u001b[0mdecision_function\u001b[0m\u001b[0;34m(\u001b[0m\u001b[0mX\u001b[0m\u001b[0;34m)\u001b[0m\u001b[0;34m\u001b[0m\u001b[0;34m\u001b[0m\u001b[0m\n\u001b[0m\u001b[1;32m    448\u001b[0m         \u001b[0;32mif\u001b[0m \u001b[0mlen\u001b[0m\u001b[0;34m(\u001b[0m\u001b[0mscores\u001b[0m\u001b[0;34m.\u001b[0m\u001b[0mshape\u001b[0m\u001b[0;34m)\u001b[0m \u001b[0;34m==\u001b[0m \u001b[0;36m1\u001b[0m\u001b[0;34m:\u001b[0m\u001b[0;34m\u001b[0m\u001b[0;34m\u001b[0m\u001b[0m\n\u001b[1;32m    449\u001b[0m             \u001b[0mindices\u001b[0m \u001b[0;34m=\u001b[0m \u001b[0;34m(\u001b[0m\u001b[0mscores\u001b[0m \u001b[0;34m>\u001b[0m \u001b[0;36m0\u001b[0m\u001b[0;34m)\u001b[0m\u001b[0;34m.\u001b[0m\u001b[0mastype\u001b[0m\u001b[0;34m(\u001b[0m\u001b[0mint\u001b[0m\u001b[0;34m)\u001b[0m\u001b[0;34m\u001b[0m\u001b[0;34m\u001b[0m\u001b[0m\n",
      "\u001b[0;32m/Applications/anaconda/anaconda3/lib/python3.9/site-packages/sklearn/linear_model/_base.py\u001b[0m in \u001b[0;36mdecision_function\u001b[0;34m(self, X)\u001b[0m\n\u001b[1;32m    425\u001b[0m             \u001b[0mthis\u001b[0m \u001b[0;32mclass\u001b[0m \u001b[0mwould\u001b[0m \u001b[0mbe\u001b[0m \u001b[0mpredicted\u001b[0m\u001b[0;34m.\u001b[0m\u001b[0;34m\u001b[0m\u001b[0;34m\u001b[0m\u001b[0m\n\u001b[1;32m    426\u001b[0m         \"\"\"\n\u001b[0;32m--> 427\u001b[0;31m         \u001b[0mcheck_is_fitted\u001b[0m\u001b[0;34m(\u001b[0m\u001b[0mself\u001b[0m\u001b[0;34m)\u001b[0m\u001b[0;34m\u001b[0m\u001b[0;34m\u001b[0m\u001b[0m\n\u001b[0m\u001b[1;32m    428\u001b[0m \u001b[0;34m\u001b[0m\u001b[0m\n\u001b[1;32m    429\u001b[0m         \u001b[0mX\u001b[0m \u001b[0;34m=\u001b[0m \u001b[0mself\u001b[0m\u001b[0;34m.\u001b[0m\u001b[0m_validate_data\u001b[0m\u001b[0;34m(\u001b[0m\u001b[0mX\u001b[0m\u001b[0;34m,\u001b[0m \u001b[0maccept_sparse\u001b[0m\u001b[0;34m=\u001b[0m\u001b[0;34m\"csr\"\u001b[0m\u001b[0;34m,\u001b[0m \u001b[0mreset\u001b[0m\u001b[0;34m=\u001b[0m\u001b[0;32mFalse\u001b[0m\u001b[0;34m)\u001b[0m\u001b[0;34m\u001b[0m\u001b[0;34m\u001b[0m\u001b[0m\n",
      "\u001b[0;32m/Applications/anaconda/anaconda3/lib/python3.9/site-packages/sklearn/utils/validation.py\u001b[0m in \u001b[0;36mcheck_is_fitted\u001b[0;34m(estimator, attributes, msg, all_or_any)\u001b[0m\n\u001b[1;32m   1343\u001b[0m \u001b[0;34m\u001b[0m\u001b[0m\n\u001b[1;32m   1344\u001b[0m     \u001b[0;32mif\u001b[0m \u001b[0;32mnot\u001b[0m \u001b[0mfitted\u001b[0m\u001b[0;34m:\u001b[0m\u001b[0;34m\u001b[0m\u001b[0;34m\u001b[0m\u001b[0m\n\u001b[0;32m-> 1345\u001b[0;31m         \u001b[0;32mraise\u001b[0m \u001b[0mNotFittedError\u001b[0m\u001b[0;34m(\u001b[0m\u001b[0mmsg\u001b[0m \u001b[0;34m%\u001b[0m \u001b[0;34m{\u001b[0m\u001b[0;34m\"name\"\u001b[0m\u001b[0;34m:\u001b[0m \u001b[0mtype\u001b[0m\u001b[0;34m(\u001b[0m\u001b[0mestimator\u001b[0m\u001b[0;34m)\u001b[0m\u001b[0;34m.\u001b[0m\u001b[0m__name__\u001b[0m\u001b[0;34m}\u001b[0m\u001b[0;34m)\u001b[0m\u001b[0;34m\u001b[0m\u001b[0;34m\u001b[0m\u001b[0m\n\u001b[0m\u001b[1;32m   1346\u001b[0m \u001b[0;34m\u001b[0m\u001b[0m\n\u001b[1;32m   1347\u001b[0m \u001b[0;34m\u001b[0m\u001b[0m\n",
      "\u001b[0;31mNotFittedError\u001b[0m: This LogisticRegression instance is not fitted yet. Call 'fit' with appropriate arguments before using this estimator."
     ]
    }
   ],
   "source": [
    "roc_auc_score(model.predict(df_with_ratings.drop(['default', 'defaultfull'], axis=1)), df_with_ratings['defaultfull'])"
   ]
  },
  {
   "cell_type": "markdown",
   "id": "3e591f87",
   "metadata": {},
   "source": [
    "### In the data we experience extreme class imbalance\n",
    "\n",
    "#### Next section is going to fix it"
   ]
  },
  {
   "cell_type": "markdown",
   "id": "69ac0bea",
   "metadata": {},
   "source": [
    "transformation"
   ]
  },
  {
   "cell_type": "code",
   "execution_count": null,
   "id": "3ec9529d",
   "metadata": {},
   "outputs": [],
   "source": [
    "# for col in df_numbers.columns:\n",
    "#     if col not in ['ent_name', 'ent_name2', 'default']:\n",
    "#         df_numbers[col] = df_numbers[col].fillna(st.mode(df_numbers[list(map(bool, df_numbers[col].isnull() - 1))][col]).mode[0])"
   ]
  },
  {
   "cell_type": "code",
   "execution_count": null,
   "id": "bcb36904",
   "metadata": {},
   "outputs": [],
   "source": [
    "df_numbers_desc = df_numbers.describe()"
   ]
  },
  {
   "cell_type": "code",
   "execution_count": null,
   "id": "346e50ce",
   "metadata": {},
   "outputs": [],
   "source": [
    "df_numbers['regn']"
   ]
  },
  {
   "cell_type": "code",
   "execution_count": null,
   "id": "32b7b4e1",
   "metadata": {},
   "outputs": [],
   "source": [
    "# for col in df_numbers.columns:\n",
    "#     if (col in ratings) or (col.find('default') != -1) or col == 'sum_ratings' or (col.find('date') != -1):\n",
    "#         pass\n",
    "#     elif len(df_numbers[col].unique()) == 2 or len(df_numbers[col].unique()) == 3:\n",
    "#         pass\n",
    "#     else:\n",
    "#         df_numbers[co§l] = (df_numbers[col] - df_numbers_desc[col][1])/df_numbers_desc[col][2]\n",
    "        \n",
    "#         log_col = 'log_' + col\n",
    "        \n",
    "#         df_numbers[log_col] = df_numbers[col].apply(lambda x: np.log(x) if -0.001 < x < 0.001 else -1000)\n",
    "        \n",
    "#         square_col = 'sq_' + col\n",
    "#         df_numbers[square_col] = df_numbers[col].apply(lambda x: x**2)\n",
    "        \n",
    "#         over_col = '_1_' + col\n",
    "#         df_numbers[over_col] = df_numbers[col].apply(lambda x: 1/x if x != 0 else 10**6)\n",
    "        \n",
    "#         df_numbers[square_col] = df_numbers[square_col].apply(lambda x: 10**6 if x > 10**6 else x)\n",
    "#         df_numbers[square_col] = df_numbers[square_col].apply(lambda x: -10**6 if x < 10**6 else x)\n",
    "        \n",
    "#         df_numbers[over_col] = df_numbers[over_col].apply(lambda x: 10**6 if x > 10**6 else x)\n",
    "#         df_numbers[over_col] = df_numbers[over_col].apply(lambda x: -10**6 if x < 10**6 else x)"
   ]
  },
  {
   "cell_type": "code",
   "execution_count": null,
   "id": "40434d19",
   "metadata": {},
   "outputs": [],
   "source": [
    "df_numbers = df_numbers.fillna(0)"
   ]
  },
  {
   "cell_type": "code",
   "execution_count": null,
   "id": "4913f51c",
   "metadata": {},
   "outputs": [],
   "source": [
    "df_numbers.describe()['licdate'][2]"
   ]
  },
  {
   "cell_type": "code",
   "execution_count": null,
   "id": "31c8528b",
   "metadata": {},
   "outputs": [],
   "source": [
    "df_numbers.describe()"
   ]
  },
  {
   "cell_type": "code",
   "execution_count": null,
   "id": "28d402b5",
   "metadata": {},
   "outputs": [],
   "source": [
    "df_no_rating = df_numbers[df_numbers['have_rating'] == 0]\n",
    "df_with_rating = df_numbers[df_numbers['have_rating'] != 0]"
   ]
  },
  {
   "cell_type": "code",
   "execution_count": null,
   "id": "5e3ac511",
   "metadata": {},
   "outputs": [],
   "source": [
    "df_with_rating.select_dtypes(np.number)"
   ]
  },
  {
   "cell_type": "code",
   "execution_count": null,
   "id": "62edafbe",
   "metadata": {},
   "outputs": [],
   "source": [
    "test_model(df_with_rating.select_dtypes(np.number), LogisticRegression(C=1, class_weight = {}), 'LogisticRegression_no_rating')"
   ]
  },
  {
   "cell_type": "code",
   "execution_count": null,
   "id": "a779955f",
   "metadata": {},
   "outputs": [],
   "source": [
    "ones = (df_with_rating[\"defaultfull\"].sum()/df.shape[0]) * 100\n",
    "zeros = 100 - ones"
   ]
  },
  {
   "cell_type": "code",
   "execution_count": null,
   "id": "98bb26bf",
   "metadata": {},
   "outputs": [],
   "source": [
    "fig, ax = plt.subplots(dpi=100)\n",
    "plt.pie([zeros, ones], labels=['percentage of zeros', 'percentage of ones'], autopct='%1.1f%%');"
   ]
  },
  {
   "cell_type": "code",
   "execution_count": null,
   "id": "fe92b6c4",
   "metadata": {},
   "outputs": [],
   "source": [
    "ones = (df_no_rating[\"defaultfull\"].sum()/df.shape[0]) * 100\n",
    "zeros = 100 - ones\n",
    "\n",
    "fig, ax = plt.subplots(dpi=100)\n",
    "plt.pie([zeros, ones], labels=['percentage of zeros', 'percentage of ones'], autopct='%1.1f%%');"
   ]
  },
  {
   "cell_type": "code",
   "execution_count": null,
   "id": "7487ce7d",
   "metadata": {},
   "outputs": [],
   "source": [
    "for col in ratings:\n",
    "    df[col] = df[col].fillna(0)"
   ]
  },
  {
   "cell_type": "markdown",
   "id": "d4c14ab7",
   "metadata": {},
   "source": [
    "## stop"
   ]
  },
  {
   "cell_type": "code",
   "execution_count": null,
   "id": "e749f0d0",
   "metadata": {},
   "outputs": [],
   "source": [
    "st.mode(df[list(map(bool, df[col].isnull() - 1))][col]).mode[0]"
   ]
  },
  {
   "cell_type": "code",
   "execution_count": null,
   "id": "7425fb3b",
   "metadata": {},
   "outputs": [],
   "source": [
    "for col in df.columns:\n",
    "    if col not in ['ent_name', 'ent_name2', 'default']:\n",
    "        df[col] = df[col].fillna(st.mode(df[list(map(bool, df[col].isnull() - 1))][col]).mode[0])\n",
    "\n",
    "# ent_name, ent_name2 - objects\n",
    "\n",
    "def naive_classifier(data):\n",
    "    return [0 for i in range(len(data))]"
   ]
  },
  {
   "cell_type": "code",
   "execution_count": null,
   "id": "b9cae9da",
   "metadata": {},
   "outputs": [],
   "source": [
    "df.columns"
   ]
  },
  {
   "cell_type": "code",
   "execution_count": null,
   "id": "75455cf6",
   "metadata": {},
   "outputs": [],
   "source": [
    "df.head()"
   ]
  },
  {
   "cell_type": "code",
   "execution_count": null,
   "id": "38788320",
   "metadata": {},
   "outputs": [],
   "source": []
  },
  {
   "cell_type": "code",
   "execution_count": null,
   "id": "6f36dd9a",
   "metadata": {},
   "outputs": [],
   "source": [
    "# n_splits=5\n",
    "\n",
    "# y_df_numbers = df_numbers['default']\n",
    "# x_df_numbers = df_numbers.drop(['default', 'defaultfull'], axis=1)\n",
    "\n",
    "# train_test_split = StratifiedKFold(n_splits=n_splits)\n",
    "# split = train_test_split.split(x_df_numbers, y_df_numbers)"
   ]
  },
  {
   "cell_type": "code",
   "execution_count": null,
   "id": "3a7dfeae",
   "metadata": {},
   "outputs": [],
   "source": []
  },
  {
   "cell_type": "code",
   "execution_count": null,
   "id": "fb4633ca",
   "metadata": {},
   "outputs": [],
   "source": [
    "df_no_rating.describe()"
   ]
  },
  {
   "cell_type": "code",
   "execution_count": null,
   "id": "c503f55d",
   "metadata": {},
   "outputs": [],
   "source": [
    "df_no_rating = df[df['have_rating'] == 0].drop([\"ent_name\", \"ent_name2\"], axis=1)\n",
    "df_with_rating = df[df['have_rating'] != 0].drop([\"ent_name\", \"ent_name2\"], axis=1)"
   ]
  },
  {
   "cell_type": "code",
   "execution_count": null,
   "id": "07c9fe6d",
   "metadata": {},
   "outputs": [],
   "source": [
    "def test_model(data, model, name='no name'):\n",
    "    n_splits=7\n",
    "\n",
    "    y_df_numbers = data['defaultfull']\n",
    "    x_df_numbers = data.drop(['default', 'default2', 'default3', 'defaultfull'], axis=1)\n",
    "\n",
    "    train_test_split = StratifiedKFold(n_splits=n_splits)\n",
    "    split = train_test_split.split(x_df_numbers, y_df_numbers)\n",
    "\n",
    "    print('recall, accuracy, roc_auc, f_1')\n",
    "\n",
    "    for i in range(n_splits):\n",
    "\n",
    "        model = model\n",
    "\n",
    "        current_split = next(split)\n",
    "\n",
    "        train_x, train_y = x_df_numbers.iloc[current_split[0]], y_df_numbers.iloc[current_split[0]]\n",
    "        test_x, test_y = x_df_numbers.iloc[current_split[1]], y_df_numbers.iloc[current_split[1]]\n",
    "\n",
    "        train_df = train_x\n",
    "        train_df['default'] = train_y\n",
    "\n",
    "        default = train_df[train_df['default'] == 1]\n",
    "        not_default = train_df[train_df['default'] == 0]\n",
    "\n",
    "        default_upsampled = resample(default, replace=True, n_samples=len(not_default), random_state=2114)\n",
    "\n",
    "        # combine majority and upsampled minority\n",
    "\n",
    "        upsampled = pd.concat([not_default, default_upsampled])\n",
    "\n",
    "        upsampled_x = upsampled.drop(['default'], axis=1)\n",
    "        upsampled_y = upsampled['default']\n",
    "\n",
    "    #     print(upsampled['default'].sum(), upsampled.shape[0])\n",
    "\n",
    "        print(f'--- {name} ---')\n",
    "\n",
    "        model.fit(upsampled_x, upsampled_y)\n",
    "\n",
    "        prediction = list(map(lambda x: 1 if x[1] > 0.5 else 0, model.predict_proba(test_x)))\n",
    "\n",
    "        print(round(recall_score(upsampled_y, model.predict(upsampled_x)), 3))                                                             \n",
    "\n",
    "        print(round(recall_score(test_y, prediction), 3), round(accuracy_score(test_y, prediction), 3), round(roc_auc_score(test_y, prediction), 3), round(f1_score(test_y, prediction), 3))"
   ]
  },
  {
   "cell_type": "code",
   "execution_count": null,
   "id": "9c95ab60",
   "metadata": {},
   "outputs": [],
   "source": [
    "test_model(df_no_rating, DecisionTreeClassifier(min_samples_leaf=7, splitter='best'), 'DecisionTreeClassifier_no_rating')\n",
    "print('//////////////')\n",
    "test_model(df_with_rating, DecisionTreeClassifier(min_samples_leaf=7, splitter='best'), 'DecisionTreeClassifier_w_rating')"
   ]
  },
  {
   "cell_type": "code",
   "execution_count": null,
   "id": "d36d2e4f",
   "metadata": {},
   "outputs": [],
   "source": [
    "test_model(df_no_rating, RandomForestClassifier(n_estimators = 300), 'RandomForestClassifier_no_rating')\n",
    "\n",
    "print()\n",
    "print('//////////////')\n",
    "print()\n",
    "\n",
    "test_model(df_with_rating, RandomForestClassifier(n_estimators = 300), 'RandomForestClassifier_w_rating')"
   ]
  },
  {
   "cell_type": "code",
   "execution_count": null,
   "id": "176bdb2c",
   "metadata": {},
   "outputs": [],
   "source": [
    "test_model(df_no_rating, LogisticRegression(C=1, class_weight = {}), 'LogisticRegression_no_rating')\n",
    "\n",
    "print()\n",
    "print('//////////////')\n",
    "print()\n",
    "\n",
    "test_model(df_with_rating, LogisticRegression(C=1), 'LogisticRegression_w_rating')"
   ]
  },
  {
   "cell_type": "code",
   "execution_count": null,
   "id": "7a236035",
   "metadata": {},
   "outputs": [],
   "source": [
    "y_df_numbers = df_numbers['defaultfull']\n",
    "x_df_numbers = df_numbers.drop(['default', 'default2', 'default3', 'defaultfull'], axis=1)\n",
    "\n",
    "train_x = x_df_numbers\n",
    "train_y = y_df_numbers\n",
    "\n",
    "print('recall, accuracy, roc_auc, f_1')\n",
    "\n",
    "model = LogisticRegression(C=1, class_weight = {})\n",
    "\n",
    "train_df = train_x\n",
    "train_df['defaultfull'] = train_y\n",
    "\n",
    "default = train_df[train_df['defaultfull'] == 1]\n",
    "not_default = train_df[train_df['defaultfull'] == 0]\n",
    "\n",
    "default_upsampled = resample(default, replace=True, n_samples=len(not_default), random_state=2114)\n",
    "\n",
    "# combine majority and upsampled minority\n",
    "\n",
    "upsampled = pd.concat([not_default, default_upsampled])\n",
    "\n",
    "upsampled_x = upsampled.drop(['defaultfull'], axis=1)\n",
    "upsampled_y = upsampled['defaultfull']\n",
    "\n",
    "#     print(upsampled['default'].sum(), upsampled.shape[0])\n",
    "\n",
    "print('--- logit classifier model ---')\n",
    "\n",
    "model.fit(upsampled_x, upsampled_y)\n",
    "\n",
    "prediction = list(map(lambda x: 1 if x[1] > 0.5 else 0, model.predict_proba(upsampled_x)))\n",
    "\n",
    "print(round(recall_score(upsampled_y, model.predict(upsampled_x)), 3))\n",
    "\n",
    "print(round(recall_score(upsampled_y, prediction), 3), round(accuracy_score(upsampled_y, prediction), 3), round(roc_auc_score(upsampled_y, prediction), 3), round(f1_score(upsampled_y, prediction), 3))"
   ]
  },
  {
   "cell_type": "code",
   "execution_count": null,
   "id": "9fcc0ea1",
   "metadata": {},
   "outputs": [],
   "source": [
    "from sklearn.metrics import roc_curve\n",
    "plt.rc(\"font\", size=14)\n",
    "\n",
    "\n",
    "logit_roc_auc = roc_auc_score(upsampled_y, model.predict_proba(upsampled_x)[:,1])\n",
    "fpr, tpr, thresholds = roc_curve(upsampled_y, model.predict_proba(upsampled_x)[:,1])\n",
    "\n",
    "\n",
    "logit_roc_auc_train = roc_auc_score(upsampled_y, model.predict_proba(upsampled_x)[:,1])\n",
    "fpr_train, tpr_train, thresholds_train = roc_curve(upsampled_y, model.predict_proba(upsampled_x)[:,1])\n",
    "\n",
    "\n",
    "plt.figure()\n",
    "plt.plot(fpr, tpr, label='Logistic Regression on test (area = %0.2f)' % logit_roc_auc)\n",
    "plt.plot(fpr_train, tpr_train, label='Logistic Regression on train (area = %0.2f)' % logit_roc_auc_train)\n",
    "plt.plot([0, 1], [0, 1],'r--')\n",
    "\n",
    "plt.xlabel('False Positive Rate')\n",
    "plt.ylabel('True Positive Rate')\n",
    "plt.title('Receiver operating characteristic')\n",
    "plt.legend(loc=\"lower right\")\n",
    "plt.show()"
   ]
  },
  {
   "cell_type": "markdown",
   "id": "90af4372",
   "metadata": {},
   "source": [
    "### OLD MODELS"
   ]
  },
  {
   "cell_type": "code",
   "execution_count": null,
   "id": "22901681",
   "metadata": {},
   "outputs": [],
   "source": [
    "n_splits=5\n",
    "\n",
    "y_df_numbers = df_numbers['defaultfull']\n",
    "x_df_numbers = df_numbers.drop(['default', 'default2', 'default3', 'defaultfull'], axis=1)\n",
    "\n",
    "train_test_split = StratifiedKFold(n_splits=n_splits)\n",
    "split = train_test_split.split(x_df_numbers, y_df_numbers)\n",
    "\n",
    "print('recall, accuracy, roc_auc, f_1')\n",
    "\n",
    "for i in range(n_splits):\n",
    "    \n",
    "    model = NuSVC()\n",
    "    \n",
    "    current_split = next(split)\n",
    "    \n",
    "    train_x, train_y = x_df_numbers.iloc[current_split[0]], y_df_numbers.iloc[current_split[0]]\n",
    "    test_x, test_y = x_df_numbers.iloc[current_split[1]], y_df_numbers.iloc[current_split[1]]\n",
    "    \n",
    "    train_df = train_x\n",
    "    train_df['default'] = train_y\n",
    "    \n",
    "    default = train_df[train_df['default'] == 1]\n",
    "    not_default = train_df[train_df['default'] == 0]\n",
    "    \n",
    "    default_upsampled = resample(default, replace=True, n_samples=len(not_default), random_state=2114)\n",
    "\n",
    "    # combine majority and upsampled minority\n",
    "    \n",
    "    upsampled = pd.concat([not_default, default_upsampled])\n",
    "    \n",
    "    upsampled_x = upsampled.drop(['default'], axis=1)\n",
    "    upsampled_y = upsampled['default']\n",
    "    \n",
    "#     print(upsampled['default'].sum(), upsampled.shape[0])\n",
    "    \n",
    "    print('--- SVC ---')\n",
    "    \n",
    "    model.fit(upsampled_x, upsampled_y)\n",
    "    \n",
    "    prediction = list(model.predict(test_x))\n",
    "    \n",
    "    print(round(recall_score(upsampled_y, model.predict(upsampled_x)), 3))                                                             \n",
    "                                                                                     \n",
    "    print(round(recall_score(test_y, prediction), 3), round(accuracy_score(test_y, prediction), 3), round(roc_auc_score(test_y, prediction), 3), round(f1_score(test_y, prediction), 3))\n",
    "    "
   ]
  },
  {
   "cell_type": "markdown",
   "id": "705ae31d",
   "metadata": {},
   "source": [
    "OTHER MODELS"
   ]
  },
  {
   "cell_type": "code",
   "execution_count": null,
   "id": "b350c6d7",
   "metadata": {},
   "outputs": [],
   "source": [
    "n_splits=5\n",
    "\n",
    "y_df_numbers = df_numbers['defaultfull']\n",
    "x_df_numbers = df_numbers.drop(['default', 'default2', 'default3', 'defaultfull'], axis=1)\n",
    "\n",
    "train_test_split = StratifiedKFold(n_splits=n_splits)\n",
    "split = train_test_split.split(x_df_numbers, y_df_numbers)\n",
    "\n",
    "print('recall, accuracy, roc_auc, f_1')\n",
    "\n",
    "for i in range(n_splits):\n",
    "    \n",
    "    forest_model = RandomForestClassifier(n_estimators=200, criterion = \"gini\")\n",
    "    \n",
    "    current_split = next(split)\n",
    "    \n",
    "    train_x, train_y = x_df_numbers.iloc[current_split[0]], y_df_numbers.iloc[current_split[0]]\n",
    "    test_x, test_y = x_df_numbers.iloc[current_split[1]], y_df_numbers.iloc[current_split[1]]\n",
    "    \n",
    "    print('--- random forest model ---')\n",
    "    \n",
    "    forest_model.fit(train_x, train_y)\n",
    "    prediction = forest_model.predict(test_x)\n",
    "    \n",
    "    print(round(recall_score(test_y, prediction), 3), round(accuracy_score(test_y, prediction), 3), round(roc_auc_score(test_y, prediction), 3), round(f1_score(test_y, prediction), 3))\n",
    "    \n",
    "#     rfc = RandomForestClassifier().fit(train_x, train_y)\n",
    "#     prediction = rfc.predict(test_x)\n",
    "    \n",
    "#     print('--- forest ---')\n",
    "#     print(round(roc_auc_score(test_y, prediction), 3), round(recall_score(test_y, prediction), 3), round(f1_score(test_y, prediction), 3), round(accuracy_score(test_y, prediction), 3))"
   ]
  },
  {
   "cell_type": "code",
   "execution_count": null,
   "id": "cb73f716",
   "metadata": {},
   "outputs": [],
   "source": [
    "from sklearn.metrics import roc_auc_score\n",
    "from sklearn.metrics import roc_curve\n",
    "import matplotlib.pyplot as plt \n",
    "plt.rc(\"font\", size=14)\n",
    "\n",
    "\n",
    "logit_roc_auc = roc_auc_score(y_test, logreg.predict_proba(X_test)[:,1])\n",
    "fpr, tpr, thresholds = roc_curve(y_test, logreg.predict_proba(X_test)[:,1])\n",
    "\n",
    "\n",
    "\n",
    "logit_roc_auc_train = roc_auc_score(y_train, logreg.predict_proba(X_train)[:,1])\n",
    "fpr_train, tpr_train, thresholds_train = roc_curve(y_train, logreg.predict_proba(X_train)[:,1])\n",
    "\n",
    "\n",
    "plt.figure()\n",
    "plt.plot(fpr, tpr, label='Logistic Regression on test (area = %0.2f)' % logit_roc_auc)\n",
    "plt.plot(fpr_train, tpr_train, label='Logistic Regression on train (area = %0.2f)' % logit_roc_auc_train)\n",
    "plt.plot([0, 1], [0, 1],'r--')\n",
    "\n",
    "plt.xlabel('False Positive Rate')\n",
    "plt.ylabel('True Positive Rate')\n",
    "plt.title('Receiver operating characteristic')\n",
    "plt.legend(loc=\"lower right\")\n",
    "plt.savefig('Log_ROC')\n",
    "plt.show()"
   ]
  },
  {
   "cell_type": "code",
   "execution_count": null,
   "id": "9a64127e",
   "metadata": {},
   "outputs": [],
   "source": [
    "df.columns"
   ]
  },
  {
   "cell_type": "code",
   "execution_count": null,
   "id": "59468b87",
   "metadata": {},
   "outputs": [],
   "source": [
    "df.hist(figsize = (20, 20), bins=50);"
   ]
  },
  {
   "cell_type": "code",
   "execution_count": null,
   "id": "24d28af2",
   "metadata": {},
   "outputs": [],
   "source": [
    "print(sum(prediction), test_x.shape[0], sum(test_y))"
   ]
  },
  {
   "cell_type": "code",
   "execution_count": null,
   "id": "53f44379",
   "metadata": {},
   "outputs": [],
   "source": [
    "x_df_numbers.iloc[[0, 1, 2]]"
   ]
  },
  {
   "cell_type": "code",
   "execution_count": null,
   "id": "e6f2a784",
   "metadata": {},
   "outputs": [],
   "source": [
    "df_nonan = df.fillna(0)"
   ]
  },
  {
   "cell_type": "code",
   "execution_count": null,
   "id": "4fc1e391",
   "metadata": {},
   "outputs": [],
   "source": [
    "df.info()"
   ]
  },
  {
   "cell_type": "code",
   "execution_count": null,
   "id": "fa00491a",
   "metadata": {},
   "outputs": [],
   "source": [
    "numeric_columns = daf_nonan._get_numeric_data().columns\n",
    "numeric_columns"
   ]
  },
  {
   "cell_type": "code",
   "execution_count": null,
   "id": "83124c95",
   "metadata": {},
   "outputs": [],
   "source": [
    "numeric_cols_no_multicorrelation = numeric_columns\n",
    "count=0\n",
    "\n",
    "for i in range(len(numeric_columns) - 1):\n",
    "    for j in range(i + 1, len(numeric_columns)):\n",
    "        col_i = numeric_columns[i]\n",
    "        col_j = numeric_columns[j]\n",
    "        correlation = np.corrcoef(df[col_i], df[col_j])[0][1]\n",
    "        \n",
    "        if np.abs(correlation) > 0.95:\n",
    "            print('-1--sus--abs-->',col_i, col_j, correlation)\n",
    "            count+=1\n",
    "            continue\n",
    "        \n",
    "#         if np.abs(correlation) > 0.9:\n",
    "#             print('-0.9--sus-->',col_i, col_j, correlation)\n",
    "#             count+=1\n",
    "#             continue\n",
    "        \n",
    "#         if np.abs(correlation) > 0.7:\n",
    "#             print('-0.7--->',col_i, col_j, correlation)\n",
    "#             continue\n",
    "            \n",
    "#         if np.abs(correlation) > 0.5:\n",
    "#             print(col_i, col_j, correlation)\n",
    "#             continue\n",
    "print(count)"
   ]
  },
  {
   "cell_type": "code",
   "execution_count": null,
   "id": "60182008",
   "metadata": {},
   "outputs": [],
   "source": [
    "#[regn, cp, active, mp, or, w, dh, la, debt_on_loan, dh, k, n]"
   ]
  },
  {
   "cell_type": "code",
   "execution_count": null,
   "id": "275916e7",
   "metadata": {},
   "outputs": [],
   "source": [
    "col_i = 'default'\n",
    "\n",
    "for j in range(len(numeric_columns)):\n",
    "\n",
    "    col_j = numeric_columns[j]\n",
    "    correlation = np.corrcoef(df[col_i], df[col_j])[0][1]\n",
    "\n",
    "    if np.abs(correlation) > 0.95:\n",
    "        print('-1--sus--abs-->',col_i, col_j, correlation)\n",
    "        count+=1\n",
    "        continue\n",
    "        \n",
    "    if np.abs(correlation) > 0.9:\n",
    "        print('-0.9--sus-->',col_i, col_j, correlation)\n",
    "        count+=1\n",
    "        continue\n",
    "\n",
    "    if np.abs(correlation) > 0.7:\n",
    "        print('-0.7--->',col_i, col_j, correlation)\n",
    "        continue\n",
    "\n",
    "    if np.abs(correlation) > 0.5:\n",
    "        print(col_i, col_j, correlation)\n",
    "        continue"
   ]
  },
  {
   "cell_type": "code",
   "execution_count": null,
   "id": "d7c0d2f1",
   "metadata": {},
   "outputs": [],
   "source": [
    "daf_nonan.head()"
   ]
  },
  {
   "cell_type": "code",
   "execution_count": null,
   "id": "1ed6173e",
   "metadata": {},
   "outputs": [],
   "source": [
    "daf_nonan.describe()"
   ]
  },
  {
   "cell_type": "code",
   "execution_count": null,
   "id": "03084463",
   "metadata": {},
   "outputs": [],
   "source": [
    "names"
   ]
  },
  {
   "cell_type": "code",
   "execution_count": null,
   "id": "096281e1",
   "metadata": {},
   "outputs": [],
   "source": [
    "print(list(df.columns))"
   ]
  },
  {
   "cell_type": "markdown",
   "id": "5db0c3eb",
   "metadata": {},
   "source": [
    "## Classification of data as is"
   ]
  },
  {
   "cell_type": "code",
   "execution_count": null,
   "id": "c6812381",
   "metadata": {},
   "outputs": [],
   "source": [
    "\"\"\" NAN REPLACING \"\"\"\n",
    "df_1 = df.copy()\n",
    "\n",
    "for col in df.columns:\n",
    "    df_1[col].fillna(df_1[col].mode()[0], inplace=True)"
   ]
  },
  {
   "cell_type": "code",
   "execution_count": null,
   "id": "3617a2a0",
   "metadata": {},
   "outputs": [],
   "source": [
    "df_1.isnull().values.any()"
   ]
  },
  {
   "cell_type": "code",
   "execution_count": null,
   "id": "d063add6",
   "metadata": {},
   "outputs": [],
   "source": [
    "model_knn = KNeighborsClassifier(10)\n",
    "model_svc = SVC()\n",
    "\n",
    "x_df = df_1.drop([\"default\"], axis=1)\n",
    "y_df = df_1.drop(x_df.columns, axis=1)\n",
    "\n",
    "x_df = x_df[x_df.select_dtypes(include=np.number).columns]\n",
    "\n",
    "#x_df = np.array(x_df)\n",
    "#y_df = np.array(y_df)\n",
    "\n",
    "from sklearn.model_selection import StratifiedKFold\n",
    "\n",
    "n_splits=5\n",
    "\n",
    "train_test_split = StratifiedKFold(n_splits=n_splits)\n",
    "split = train_test_split.split(x_df, y_df)\n",
    "\n",
    "normalizer = StandardScaler()\n",
    "for line in x_df:\n",
    "    for el in line:\n",
    "        normalizer.fit_transform(line)\n",
    "\n",
    "#df_1_norm = normalizer.fit_transform(df_1)\n",
    "\n",
    "# pipeline = make_pipeline(normalizer, model_knn)"
   ]
  },
  {
   "cell_type": "code",
   "execution_count": null,
   "id": "32dc213c",
   "metadata": {},
   "outputs": [],
   "source": [
    "for train_index, test_index in split:\n",
    "    x_train, x_test = x_df[train_index], x_df[test_index]\n",
    "    y_train, y_test = y_df[train_index], y_df[test_index]\n",
    "    print(np.sum(y_test)/ len(y_test))\n",
    "    model_knn.fit(x_train, y_train)\n",
    "    predicted_output = model_knn.predict(x_test)\n",
    "    score = model_knn.score(x_test, y_test)\n",
    "    print(score)\n",
    "    \n",
    "    recall = recall_score(y_test, predicted_output)\n",
    "    print(recall)\n",
    "    \n",
    "    roc = roc_auc_score(y_test, predicted_output)\n",
    "    print(roc)\n",
    "    print(\"next strata\")\n",
    "    #plt.plot(roc)\n",
    "    #plt.show()\n",
    "    "
   ]
  },
  {
   "cell_type": "markdown",
   "id": "e241beb7",
   "metadata": {},
   "source": [
    "# Experiments"
   ]
  },
  {
   "cell_type": "code",
   "execution_count": null,
   "id": "3989786c",
   "metadata": {},
   "outputs": [],
   "source": [
    "pca_10 = PCA(10)\n",
    "\n",
    "df_numbers_n = normalize(df_numbers[df_numbers['defaultfull'] == 1].drop(['default', 'default2', 'default3', 'defaultfull'], axis=1))\n",
    "df_pc = pd.DataFrame(pca_10.fit_transform(df_numbers_n))\n",
    "\n",
    "plt.scatter(df_pc[0], df_pc[1], marker='.', s=40)"
   ]
  },
  {
   "cell_type": "code",
   "execution_count": null,
   "id": "ca7f5099",
   "metadata": {},
   "outputs": [],
   "source": [
    "pca_10 = PCA(10)\n",
    "\n",
    "df_numbers_n = normalize(df_numbers.drop(['default', 'default2', 'default3', 'defaultfull'], axis=1))\n",
    "df_pc = pd.DataFrame(pca_10.fit_transform(df_numbers_n))\n",
    "\n",
    "plt.scatter(df_pc[0], df_pc[1], c=df_numbers['defaultfull'], marker='.', s=40)"
   ]
  },
  {
   "cell_type": "code",
   "execution_count": null,
   "id": "6b024adc",
   "metadata": {},
   "outputs": [],
   "source": [
    "plt.plot(pca_10.explained_variance_ratio_)\n",
    "print(pca_10.explained_variance_ratio_[0], pca_10.explained_variance_ratio_[1])"
   ]
  },
  {
   "cell_type": "code",
   "execution_count": null,
   "id": "fc3403ff",
   "metadata": {},
   "outputs": [],
   "source": [
    "df_pc"
   ]
  },
  {
   "cell_type": "code",
   "execution_count": null,
   "id": "c63cf254",
   "metadata": {},
   "outputs": [],
   "source": []
  },
  {
   "cell_type": "markdown",
   "id": "02f207b6",
   "metadata": {},
   "source": [
    "# Experimentssss"
   ]
  },
  {
   "cell_type": "code",
   "execution_count": null,
   "id": "e42b0e92",
   "metadata": {},
   "outputs": [],
   "source": [
    "one_bank_time_dataset = df[df['regn'] == 2810]"
   ]
  },
  {
   "cell_type": "code",
   "execution_count": null,
   "id": "1ef09517",
   "metadata": {},
   "outputs": [],
   "source": [
    "one_bank_time_dataset[['default', 'default2', 'default3', 'defaultfull']]"
   ]
  },
  {
   "cell_type": "code",
   "execution_count": null,
   "id": "c0b90be2",
   "metadata": {},
   "outputs": [],
   "source": [
    "one_bank_time_dataset"
   ]
  },
  {
   "cell_type": "code",
   "execution_count": null,
   "id": "65ef3fa8",
   "metadata": {},
   "outputs": [],
   "source": [
    "df['date']"
   ]
  },
  {
   "cell_type": "code",
   "execution_count": null,
   "id": "40b52030",
   "metadata": {},
   "outputs": [],
   "source": [
    "df[df['defaultfull'] == 1]['regn'].unique()"
   ]
  },
  {
   "cell_type": "code",
   "execution_count": null,
   "id": "ee64b97d",
   "metadata": {},
   "outputs": [],
   "source": []
  },
  {
   "cell_type": "code",
   "execution_count": null,
   "id": "7e0f336b",
   "metadata": {},
   "outputs": [],
   "source": []
  },
  {
   "cell_type": "code",
   "execution_count": null,
   "id": "93237673",
   "metadata": {},
   "outputs": [],
   "source": []
  },
  {
   "cell_type": "code",
   "execution_count": null,
   "id": "b923a27e",
   "metadata": {},
   "outputs": [],
   "source": []
  },
  {
   "cell_type": "code",
   "execution_count": null,
   "id": "b4716e8d",
   "metadata": {},
   "outputs": [],
   "source": []
  }
 ],
 "metadata": {
  "kernelspec": {
   "display_name": "Python 3 (ipykernel)",
   "language": "python",
   "name": "python3"
  },
  "language_info": {
   "codemirror_mode": {
    "name": "ipython",
    "version": 3
   },
   "file_extension": ".py",
   "mimetype": "text/x-python",
   "name": "python",
   "nbconvert_exporter": "python",
   "pygments_lexer": "ipython3",
   "version": "3.9.7"
  }
 },
 "nbformat": 4,
 "nbformat_minor": 5
}
